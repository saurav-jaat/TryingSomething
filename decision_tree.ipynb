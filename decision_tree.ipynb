{
 "cells": [
  {
   "cell_type": "markdown",
   "metadata": {},
   "source": [
    "# Modeling using Decision Tree Classifier"
   ]
  },
  {
   "cell_type": "code",
   "execution_count": 28,
   "metadata": {},
   "outputs": [],
   "source": [
    "# Loading Libraries\n",
    "import numpy as np \n",
    "import pandas as pd\n",
    "\n",
    "from sklearn.tree import DecisionTreeClassifier\n",
    "from sklearn.model_selection import train_test_split\n",
    "from sklearn import preprocessing\n",
    "from sklearn.metrics import f1_score\n",
    "\n",
    "from tabulate import tabulate\n",
    "\n",
    "import matplotlib.pyplot as plt\n",
    "\n",
    "%matplotlib inline\n",
    "plt.rcParams['figure.figsize']=(10, 8)"
   ]
  },
  {
   "cell_type": "code",
   "execution_count": 3,
   "metadata": {},
   "outputs": [
    {
     "data": {
      "text/html": [
       "<div>\n",
       "<style scoped>\n",
       "    .dataframe tbody tr th:only-of-type {\n",
       "        vertical-align: middle;\n",
       "    }\n",
       "\n",
       "    .dataframe tbody tr th {\n",
       "        vertical-align: top;\n",
       "    }\n",
       "\n",
       "    .dataframe thead th {\n",
       "        text-align: right;\n",
       "    }\n",
       "</style>\n",
       "<table border=\"1\" class=\"dataframe\">\n",
       "  <thead>\n",
       "    <tr style=\"text-align: right;\">\n",
       "      <th></th>\n",
       "      <th>from-to</th>\n",
       "      <th>score</th>\n",
       "      <th>userA_id</th>\n",
       "      <th>userB_id</th>\n",
       "      <th>has_common_skills</th>\n",
       "      <th>n_common_skills</th>\n",
       "      <th>has_common_schools</th>\n",
       "      <th>n_common_schools</th>\n",
       "      <th>has_common_industry</th>\n",
       "      <th>n_common_industry</th>\n",
       "      <th>...</th>\n",
       "      <th>userA_strength_id_7</th>\n",
       "      <th>userA_strength_id_8</th>\n",
       "      <th>userB_strength_id_1</th>\n",
       "      <th>userB_strength_id_2</th>\n",
       "      <th>userB_strength_id_3</th>\n",
       "      <th>userB_strength_id_4</th>\n",
       "      <th>userB_strength_id_5</th>\n",
       "      <th>userB_strength_id_6</th>\n",
       "      <th>userB_strength_id_7</th>\n",
       "      <th>userB_strength_id_8</th>\n",
       "    </tr>\n",
       "  </thead>\n",
       "  <tbody>\n",
       "    <tr>\n",
       "      <th>0</th>\n",
       "      <td>4769697-6308211</td>\n",
       "      <td>3.0</td>\n",
       "      <td>4769697.0</td>\n",
       "      <td>6308211.0</td>\n",
       "      <td>0.0</td>\n",
       "      <td>-1.0</td>\n",
       "      <td>0.0</td>\n",
       "      <td>-1.0</td>\n",
       "      <td>0.0</td>\n",
       "      <td>0.0</td>\n",
       "      <td>...</td>\n",
       "      <td>1.0</td>\n",
       "      <td>1.0</td>\n",
       "      <td>1.0</td>\n",
       "      <td>3.0</td>\n",
       "      <td>3.0</td>\n",
       "      <td>15.0</td>\n",
       "      <td>6.0</td>\n",
       "      <td>14.0</td>\n",
       "      <td>0.0</td>\n",
       "      <td>8.0</td>\n",
       "    </tr>\n",
       "    <tr>\n",
       "      <th>1</th>\n",
       "      <td>6275668-6308211</td>\n",
       "      <td>2.0</td>\n",
       "      <td>6275668.0</td>\n",
       "      <td>6308211.0</td>\n",
       "      <td>1.0</td>\n",
       "      <td>-2.0</td>\n",
       "      <td>0.0</td>\n",
       "      <td>-1.0</td>\n",
       "      <td>0.0</td>\n",
       "      <td>0.0</td>\n",
       "      <td>...</td>\n",
       "      <td>0.0</td>\n",
       "      <td>3.0</td>\n",
       "      <td>1.0</td>\n",
       "      <td>3.0</td>\n",
       "      <td>3.0</td>\n",
       "      <td>15.0</td>\n",
       "      <td>6.0</td>\n",
       "      <td>14.0</td>\n",
       "      <td>0.0</td>\n",
       "      <td>8.0</td>\n",
       "    </tr>\n",
       "    <tr>\n",
       "      <th>2</th>\n",
       "      <td>6307254-6308211</td>\n",
       "      <td>3.0</td>\n",
       "      <td>6307254.0</td>\n",
       "      <td>6308211.0</td>\n",
       "      <td>0.0</td>\n",
       "      <td>-1.0</td>\n",
       "      <td>0.0</td>\n",
       "      <td>-1.0</td>\n",
       "      <td>0.0</td>\n",
       "      <td>0.0</td>\n",
       "      <td>...</td>\n",
       "      <td>1.0</td>\n",
       "      <td>3.0</td>\n",
       "      <td>1.0</td>\n",
       "      <td>3.0</td>\n",
       "      <td>3.0</td>\n",
       "      <td>15.0</td>\n",
       "      <td>6.0</td>\n",
       "      <td>14.0</td>\n",
       "      <td>0.0</td>\n",
       "      <td>8.0</td>\n",
       "    </tr>\n",
       "    <tr>\n",
       "      <th>3</th>\n",
       "      <td>1208644-6308211</td>\n",
       "      <td>2.0</td>\n",
       "      <td>1208644.0</td>\n",
       "      <td>6308211.0</td>\n",
       "      <td>0.0</td>\n",
       "      <td>0.0</td>\n",
       "      <td>0.0</td>\n",
       "      <td>-1.0</td>\n",
       "      <td>1.0</td>\n",
       "      <td>1.0</td>\n",
       "      <td>...</td>\n",
       "      <td>0.0</td>\n",
       "      <td>0.0</td>\n",
       "      <td>1.0</td>\n",
       "      <td>3.0</td>\n",
       "      <td>3.0</td>\n",
       "      <td>15.0</td>\n",
       "      <td>6.0</td>\n",
       "      <td>14.0</td>\n",
       "      <td>0.0</td>\n",
       "      <td>8.0</td>\n",
       "    </tr>\n",
       "    <tr>\n",
       "      <th>4</th>\n",
       "      <td>6275807-6308211</td>\n",
       "      <td>3.0</td>\n",
       "      <td>6275807.0</td>\n",
       "      <td>6308211.0</td>\n",
       "      <td>1.0</td>\n",
       "      <td>-2.0</td>\n",
       "      <td>0.0</td>\n",
       "      <td>-1.0</td>\n",
       "      <td>1.0</td>\n",
       "      <td>1.0</td>\n",
       "      <td>...</td>\n",
       "      <td>0.0</td>\n",
       "      <td>1.0</td>\n",
       "      <td>1.0</td>\n",
       "      <td>3.0</td>\n",
       "      <td>3.0</td>\n",
       "      <td>15.0</td>\n",
       "      <td>6.0</td>\n",
       "      <td>14.0</td>\n",
       "      <td>0.0</td>\n",
       "      <td>8.0</td>\n",
       "    </tr>\n",
       "  </tbody>\n",
       "</table>\n",
       "<p>5 rows × 60 columns</p>\n",
       "</div>"
      ],
      "text/plain": [
       "           from-to  score   userA_id   userB_id  has_common_skills  \\\n",
       "0  4769697-6308211    3.0  4769697.0  6308211.0                0.0   \n",
       "1  6275668-6308211    2.0  6275668.0  6308211.0                1.0   \n",
       "2  6307254-6308211    3.0  6307254.0  6308211.0                0.0   \n",
       "3  1208644-6308211    2.0  1208644.0  6308211.0                0.0   \n",
       "4  6275807-6308211    3.0  6275807.0  6308211.0                1.0   \n",
       "\n",
       "   n_common_skills  has_common_schools  n_common_schools  has_common_industry  \\\n",
       "0             -1.0                 0.0              -1.0                  0.0   \n",
       "1             -2.0                 0.0              -1.0                  0.0   \n",
       "2             -1.0                 0.0              -1.0                  0.0   \n",
       "3              0.0                 0.0              -1.0                  1.0   \n",
       "4             -2.0                 0.0              -1.0                  1.0   \n",
       "\n",
       "   n_common_industry  ...  userA_strength_id_7  userA_strength_id_8  \\\n",
       "0                0.0  ...                  1.0                  1.0   \n",
       "1                0.0  ...                  0.0                  3.0   \n",
       "2                0.0  ...                  1.0                  3.0   \n",
       "3                1.0  ...                  0.0                  0.0   \n",
       "4                1.0  ...                  0.0                  1.0   \n",
       "\n",
       "   userB_strength_id_1  userB_strength_id_2  userB_strength_id_3  \\\n",
       "0                  1.0                  3.0                  3.0   \n",
       "1                  1.0                  3.0                  3.0   \n",
       "2                  1.0                  3.0                  3.0   \n",
       "3                  1.0                  3.0                  3.0   \n",
       "4                  1.0                  3.0                  3.0   \n",
       "\n",
       "   userB_strength_id_4  userB_strength_id_5  userB_strength_id_6  \\\n",
       "0                 15.0                  6.0                 14.0   \n",
       "1                 15.0                  6.0                 14.0   \n",
       "2                 15.0                  6.0                 14.0   \n",
       "3                 15.0                  6.0                 14.0   \n",
       "4                 15.0                  6.0                 14.0   \n",
       "\n",
       "   userB_strength_id_7  userB_strength_id_8  \n",
       "0                  0.0                  8.0  \n",
       "1                  0.0                  8.0  \n",
       "2                  0.0                  8.0  \n",
       "3                  0.0                  8.0  \n",
       "4                  0.0                  8.0  \n",
       "\n",
       "[5 rows x 60 columns]"
      ]
     },
     "execution_count": 3,
     "metadata": {},
     "output_type": "execute_result"
    }
   ],
   "source": [
    "# Loading data\n",
    "PATH = 'Feature Creation/train_short_features.csv'\n",
    "df=pd.read_csv(PATH)\n",
    "df.head()"
   ]
  },
  {
   "cell_type": "markdown",
   "metadata": {},
   "source": [
    "## Preprocessing"
   ]
  },
  {
   "cell_type": "code",
   "execution_count": 4,
   "metadata": {},
   "outputs": [],
   "source": [
    "# Feature label\n",
    "X = df.drop(labels=['from-to','userA_id','score', 'userA_id', 'userB_id'],\n",
    "            axis=1)\n",
    "y = df['score']"
   ]
  },
  {
   "cell_type": "code",
   "execution_count": 6,
   "metadata": {},
   "outputs": [],
   "source": [
    "# Train-test Split\n",
    "# 70-15-15\n",
    "X_train, X_test, y_train, y_test = train_test_split(X, y,\n",
    "                                                    test_size=0.3,\n",
    "                                                    random_state=3,\n",
    "                                                    stratify=y)\n",
    "X_val,X_test,y_val,y_test =train_test_split(X_test,y_test,\n",
    "                                            test_size=0.5,\n",
    "                                            random_state=3,\n",
    "                                            stratify=y_test)"
   ]
  },
  {
   "cell_type": "markdown",
   "metadata": {},
   "source": [
    "## Model Building"
   ]
  },
  {
   "cell_type": "code",
   "execution_count": 16,
   "metadata": {},
   "outputs": [],
   "source": [
    "# Build model\n",
    "dt_model = DecisionTreeClassifier(random_state=3)"
   ]
  },
  {
   "cell_type": "code",
   "execution_count": 22,
   "metadata": {},
   "outputs": [
    {
     "name": "stdout",
     "output_type": "stream",
     "text": [
      "set           f1_score(micro)\n",
      "----------  -----------------\n",
      "Train                0.999908\n",
      "Validation           0.359068\n"
     ]
    }
   ],
   "source": [
    "# Fit Model\n",
    "dt_model.fit(X_train,y_train)\n",
    "#\n",
    "# f1 Score over train and test\n",
    "data = [\n",
    "    ('set', 'f1_score(micro)'),\n",
    "    ('Train', f1_score(y_train, dt_model.predict(X_train), average='micro')),\n",
    "    ('Validation', f1_score(y_val, dt_model.predict(X_val), average='micro'))\n",
    "]\n",
    "print(tabulate(data, headers='firstrow'))"
   ]
  },
  {
   "cell_type": "markdown",
   "metadata": {},
   "source": [
    "## Hyperparameter Optimization"
   ]
  },
  {
   "cell_type": "code",
   "execution_count": 37,
   "metadata": {},
   "outputs": [
    {
     "data": {
      "image/png": "[encoded data removed]",
      "text/plain": [
       "<Figure size 720x576 with 1 Axes>"
      ]
     },
     "metadata": {
      "needs_background": "light"
     },
     "output_type": "display_data"
    }
   ],
   "source": [
    "# Tree Depth optimization\n",
    "#\n",
    "depths = range(1, 10)\n",
    "#\n",
    "train_scores = []\n",
    "val_scores = []\n",
    "#\n",
    "for depth in depths:\n",
    "    dt_model = DecisionTreeClassifier(random_state=3, max_depth=depth)\n",
    "    dt_model.fit(X_train, y_train)\n",
    "    train_scores.append( f1_score(y_train, dt_model.predict(X_train), average='micro'))\n",
    "    val_scores.append( f1_score(y_val, dt_model.predict(X_val), average='micro'))\n",
    "#\n",
    "# Plot\n",
    "plt.plot(train_scores, 'g--', label='training scores')\n",
    "plt.plot(val_scores, 'r', label='validation scores')\n",
    "plt.ylabel('f1_score')\n",
    "plt.xlabel('Tree Depth')\n",
    "plt.xticks(range(0, len(depths)-1), labels=depths)\n",
    "plt.legend()\n",
    "plt.show()"
   ]
  },
  {
   "cell_type": "markdown",
   "metadata": {},
   "source": [
    "## Final Optimised Decision Tree `max_depth=5`"
   ]
  },
  {
   "cell_type": "code",
   "execution_count": 40,
   "metadata": {},
   "outputs": [
    {
     "name": "stdout",
     "output_type": "stream",
     "text": [
      "set           f1_score(micro)\n",
      "----------  -----------------\n",
      "Train                0.39476\n",
      "Validation           0.396593\n",
      "Test                 0.396723\n"
     ]
    }
   ],
   "source": [
    "# Model init\n",
    "dt_model = DecisionTreeClassifier(max_depth=5, random_state=3)\n",
    "#Fit\n",
    "dt_model.fit(X_train, y_train)\n",
    "#\n",
    "# Scoring\n",
    "data = [\n",
    "    ('set', 'f1_score(micro)'),\n",
    "    ('Train', f1_score(y_train, dt_model.predict(X_train), average='micro')),\n",
    "    ('Validation', f1_score(y_val, dt_model.predict(X_val), average='micro')),\n",
    "    ('Test', f1_score(y_test, dt_model.predict(X_test), average='micro'))\n",
    "]\n",
    "print(tabulate(data, headers='firstrow'))"
   ]
  },
  {
   "cell_type": "markdown",
   "metadata": {},
   "source": [
    "## Insights\n",
    "- Consistent model but not accurate\n",
    "- further introduce more features "
   ]
  },
  {
   "cell_type": "code",
   "execution_count": 52,
   "metadata": {},
   "outputs": [],
   "source": [
    "# Saving model\n",
    "from pickle import dump\n",
    "dump(dt_model, open('deployment/model_DT.pkl', 'wb'))"
   ]
  }
 ],
 "metadata": {
  "kernelspec": {
   "display_name": "Python 3",
   "language": "python",
   "name": "python3"
  },
  "language_info": {
   "codemirror_mode": {
    "name": "ipython",
    "version": 3
   },
   "file_extension": ".py",
   "mimetype": "text/x-python",
   "name": "python",
   "nbconvert_exporter": "python",
   "pygments_lexer": "ipython3",
   "version": "3.8.3"
  }
 },
 "nbformat": 4,
 "nbformat_minor": 4
}
