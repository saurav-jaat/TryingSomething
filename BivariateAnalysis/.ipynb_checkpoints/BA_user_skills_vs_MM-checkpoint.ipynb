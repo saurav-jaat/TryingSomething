{
 "cells": [
  {
   "cell_type": "code",
   "execution_count": 3,
   "metadata": {},
   "outputs": [],
   "source": [
    "# Loading Libraries\n",
    "import pandas as pd\n",
    "import matplotlib.pyplot as plt\n",
    "import numpy as np\n",
    "from tabulate import tabulate\n",
    "\n",
    "from sklearn.utils import shuffle\n",
    "from sklearn.model_selection import train_test_split as ttsplit\n",
    "from scipy.stats import chi2_contingency\n",
    "\n",
    "import seaborn as sns\n",
    "\n",
    "%matplotlib inline\n",
    "plt.rcParams['figure.figsize']=(10,8)\n",
    "\n",
    "RANDOM_STATE = 53"
   ]
  },
  {
   "cell_type": "code",
   "execution_count": 4,
   "metadata": {},
   "outputs": [],
   "source": [
    "# PATH\n",
    "DATA_TRAIN_PATH = '../../data_v2/train.csv'\n",
    "DATA_SKILLS_PATH = '../../data_v2/user_skills.csv'"
   ]
  },
  {
   "cell_type": "code",
   "execution_count": 5,
   "metadata": {},
   "outputs": [
    {
     "data": {
      "text/plain": [
       "((903605, 2),\n",
       "            from-to  score\n",
       " 0    6320501-27657    0.0\n",
       " 1  6310893-6295314    1.0\n",
       " 2  6285646-6303434    3.0\n",
       " 3   870193-6275811    1.0\n",
       " 4  6270099-6270025    0.0)"
      ]
     },
     "execution_count": 5,
     "metadata": {},
     "output_type": "execute_result"
    }
   ],
   "source": [
    "# Loading Data\n",
    "df = pd.read_csv(DATA_TRAIN_PATH)\n",
    "df.shape, df.head()"
   ]
  },
  {
   "cell_type": "code",
   "execution_count": 6,
   "metadata": {},
   "outputs": [
    {
     "data": {
      "text/plain": [
       "from-to     object\n",
       "score      float64\n",
       "dtype: object"
      ]
     },
     "execution_count": 6,
     "metadata": {},
     "output_type": "execute_result"
    }
   ],
   "source": [
    "# finding datatypes\n",
    "df.dtypes"
   ]
  },
  {
   "cell_type": "code",
   "execution_count": 7,
   "metadata": {},
   "outputs": [
    {
     "data": {
      "text/html": [
       "<div>\n",
       "<style scoped>\n",
       "    .dataframe tbody tr th:only-of-type {\n",
       "        vertical-align: middle;\n",
       "    }\n",
       "\n",
       "    .dataframe tbody tr th {\n",
       "        vertical-align: top;\n",
       "    }\n",
       "\n",
       "    .dataframe thead th {\n",
       "        text-align: right;\n",
       "    }\n",
       "</style>\n",
       "<table border=\"1\" class=\"dataframe\">\n",
       "  <thead>\n",
       "    <tr style=\"text-align: right;\">\n",
       "      <th></th>\n",
       "      <th>from-to</th>\n",
       "      <th>score</th>\n",
       "      <th>userA_id</th>\n",
       "      <th>userB_id</th>\n",
       "    </tr>\n",
       "  </thead>\n",
       "  <tbody>\n",
       "    <tr>\n",
       "      <th>0</th>\n",
       "      <td>6320501-27657</td>\n",
       "      <td>0.0</td>\n",
       "      <td>6320501</td>\n",
       "      <td>27657</td>\n",
       "    </tr>\n",
       "    <tr>\n",
       "      <th>1</th>\n",
       "      <td>6310893-6295314</td>\n",
       "      <td>1.0</td>\n",
       "      <td>6310893</td>\n",
       "      <td>6295314</td>\n",
       "    </tr>\n",
       "    <tr>\n",
       "      <th>2</th>\n",
       "      <td>6285646-6303434</td>\n",
       "      <td>3.0</td>\n",
       "      <td>6285646</td>\n",
       "      <td>6303434</td>\n",
       "    </tr>\n",
       "    <tr>\n",
       "      <th>3</th>\n",
       "      <td>870193-6275811</td>\n",
       "      <td>1.0</td>\n",
       "      <td>870193</td>\n",
       "      <td>6275811</td>\n",
       "    </tr>\n",
       "    <tr>\n",
       "      <th>4</th>\n",
       "      <td>6270099-6270025</td>\n",
       "      <td>0.0</td>\n",
       "      <td>6270099</td>\n",
       "      <td>6270025</td>\n",
       "    </tr>\n",
       "  </tbody>\n",
       "</table>\n",
       "</div>"
      ],
      "text/plain": [
       "           from-to  score userA_id userB_id\n",
       "0    6320501-27657    0.0  6320501    27657\n",
       "1  6310893-6295314    1.0  6310893  6295314\n",
       "2  6285646-6303434    3.0  6285646  6303434\n",
       "3   870193-6275811    1.0   870193  6275811\n",
       "4  6270099-6270025    0.0  6270099  6270025"
      ]
     },
     "execution_count": 7,
     "metadata": {},
     "output_type": "execute_result"
    }
   ],
   "source": [
    "#Separating the `from-to` column\n",
    "temp = np.array(df['from-to'].apply(lambda x: x.split('-')).to_list())\n",
    "df['userA_id'] = temp[:, 0]\n",
    "df['userB_id'] = temp[:, 1]\n",
    "df.head()"
   ]
  },
  {
   "cell_type": "code",
   "execution_count": 8,
   "metadata": {},
   "outputs": [
    {
     "data": {
      "text/plain": [
       "from-to      object\n",
       "score       float64\n",
       "userA_id     object\n",
       "userB_id     object\n",
       "dtype: object"
      ]
     },
     "execution_count": 8,
     "metadata": {},
     "output_type": "execute_result"
    }
   ],
   "source": [
    "# Checking types again\n",
    "df.dtypes"
   ]
  },
  {
   "cell_type": "code",
   "execution_count": 9,
   "metadata": {},
   "outputs": [],
   "source": [
    "# Fixing type variables\n",
    "type_correction = {'score': 'object',\n",
    "                  }\n",
    "df = df.astype(type_correction)"
   ]
  },
  {
   "cell_type": "markdown",
   "metadata": {},
   "source": [
    " **Important**\n",
    " \n",
    " - UA_train.ipynb would have covered the lone analysis of train.csv"
   ]
  },
  {
   "cell_type": "code",
   "execution_count": 10,
   "metadata": {},
   "outputs": [
    {
     "data": {
      "text/plain": [
       "0.0    49.939741\n",
       "1.0    45.036935\n",
       "3.0     4.167861\n",
       "2.0     0.855462\n",
       "Name: score, dtype: float64"
      ]
     },
     "execution_count": 10,
     "metadata": {},
     "output_type": "execute_result"
    }
   ],
   "source": [
    "# Proportions of output labels\n",
    "df['score'].value_counts(normalize=True)*100"
   ]
  },
  {
   "cell_type": "code",
   "execution_count": 11,
   "metadata": {},
   "outputs": [],
   "source": [
    "# Subsetting Dataset to balance the output labels\n",
    "df_label_3 = df[df['score'] == 3]\n",
    "df_label_2 = df[df['score'] == 2]\n",
    "df_label_1 = df[df['score'] == 1]\n",
    "df_label_0 = df[df['score'] == 0]\n",
    "\n",
    "# getting least freq label count\n",
    "sample_size = min(df_label_3.shape[0],\n",
    "    df_label_2.shape[0],\n",
    "    df_label_1.shape[0],\n",
    "    df_label_0.shape[0]) - 1\n",
    "\n",
    "# Randomly selecting observations such that the classes are balanced\n",
    "df_label_3, _ = ttsplit(df_label_3, random_state=RANDOM_STATE, train_size=sample_size)\n",
    "df_label_2, _ = ttsplit(df_label_2, random_state=RANDOM_STATE, train_size=sample_size)\n",
    "df_label_1, _ = ttsplit(df_label_1, random_state=RANDOM_STATE, train_size=sample_size)\n",
    "df_label_0, _ = ttsplit(df_label_0, random_state=RANDOM_STATE, train_size=sample_size)\n"
   ]
  },
  {
   "cell_type": "code",
   "execution_count": 12,
   "metadata": {},
   "outputs": [],
   "source": [
    "# merging the parts\n",
    "parts = [df_label_3, df_label_2, df_label_1, df_label_0]\n",
    "df_train = pd.concat(parts)\n",
    "df_train = shuffle(df_train, random_state=RANDOM_STATE)"
   ]
  },
  {
   "cell_type": "code",
   "execution_count": 13,
   "metadata": {},
   "outputs": [
    {
     "data": {
      "text/plain": [
       "3.0    25.0\n",
       "2.0    25.0\n",
       "1.0    25.0\n",
       "0.0    25.0\n",
       "Name: score, dtype: float64"
      ]
     },
     "execution_count": 13,
     "metadata": {},
     "output_type": "execute_result"
    }
   ],
   "source": [
    "# Rechecking proportions\n",
    "df_train['score'].value_counts(normalize=True)*100"
   ]
  },
  {
   "cell_type": "code",
   "execution_count": 14,
   "metadata": {},
   "outputs": [
    {
     "data": {
      "text/plain": [
       "15583"
      ]
     },
     "execution_count": 14,
     "metadata": {},
     "output_type": "execute_result"
    }
   ],
   "source": [
    "# No. of uniuqe users for whom the relations are defined\n",
    "len(set(df_train['userA_id'].to_list() +df_train['userB_id'].to_list()))"
   ]
  },
  {
   "cell_type": "markdown",
   "metadata": {},
   "source": [
    "- atmost 3 relations are given for the 75% of the user group\n",
    "- maximum relation given for a user is 289"
   ]
  },
  {
   "cell_type": "markdown",
   "metadata": {},
   "source": [
    "## Strategy\n",
    "\n",
    "1. create two featues\n",
    "    - `has_common_skills`: if any skill common to both users\n",
    "    - `n_common_skills`: count of common skills\n",
    "2. Check for statistical importance of same towards the compatibility types"
   ]
  },
  {
   "cell_type": "code",
   "execution_count": 15,
   "metadata": {},
   "outputs": [
    {
     "data": {
      "text/html": [
       "<div>\n",
       "<style scoped>\n",
       "    .dataframe tbody tr th:only-of-type {\n",
       "        vertical-align: middle;\n",
       "    }\n",
       "\n",
       "    .dataframe tbody tr th {\n",
       "        vertical-align: top;\n",
       "    }\n",
       "\n",
       "    .dataframe thead th {\n",
       "        text-align: right;\n",
       "    }\n",
       "</style>\n",
       "<table border=\"1\" class=\"dataframe\">\n",
       "  <thead>\n",
       "    <tr style=\"text-align: right;\">\n",
       "      <th></th>\n",
       "      <th>user_id</th>\n",
       "      <th>skill_id</th>\n",
       "    </tr>\n",
       "  </thead>\n",
       "  <tbody>\n",
       "    <tr>\n",
       "      <th>0</th>\n",
       "      <td>0</td>\n",
       "      <td>1</td>\n",
       "    </tr>\n",
       "    <tr>\n",
       "      <th>1</th>\n",
       "      <td>0</td>\n",
       "      <td>999999</td>\n",
       "    </tr>\n",
       "    <tr>\n",
       "      <th>2</th>\n",
       "      <td>151</td>\n",
       "      <td>3</td>\n",
       "    </tr>\n",
       "    <tr>\n",
       "      <th>3</th>\n",
       "      <td>151</td>\n",
       "      <td>4</td>\n",
       "    </tr>\n",
       "    <tr>\n",
       "      <th>4</th>\n",
       "      <td>151</td>\n",
       "      <td>5</td>\n",
       "    </tr>\n",
       "  </tbody>\n",
       "</table>\n",
       "</div>"
      ],
      "text/plain": [
       "   user_id  skill_id\n",
       "0        0         1\n",
       "1        0    999999\n",
       "2      151         3\n",
       "3      151         4\n",
       "4      151         5"
      ]
     },
     "execution_count": 15,
     "metadata": {},
     "output_type": "execute_result"
    }
   ],
   "source": [
    "# Loading skills table to create a lookup to create feature from\n",
    "df_skills = pd.read_csv(DATA_SKILLS_PATH)\n",
    "df_skills.head()"
   ]
  },
  {
   "cell_type": "markdown",
   "metadata": {},
   "source": [
    "Considering insgihts from the UA of `df_school`\n",
    " - dropping duplicates"
   ]
  },
  {
   "cell_type": "code",
   "execution_count": 16,
   "metadata": {},
   "outputs": [],
   "source": [
    "# dropping duplicates\n",
    "df_skills.drop_duplicates(inplace=True)"
   ]
  },
  {
   "cell_type": "code",
   "execution_count": 17,
   "metadata": {},
   "outputs": [],
   "source": [
    "# Grouping the schools by user_id\n",
    "df_skills_grouped = df_skills.groupby('user_id')"
   ]
  },
  {
   "cell_type": "code",
   "execution_count": 18,
   "metadata": {},
   "outputs": [
    {
     "data": {
      "text/html": [
       "<div>\n",
       "<style scoped>\n",
       "    .dataframe tbody tr th:only-of-type {\n",
       "        vertical-align: middle;\n",
       "    }\n",
       "\n",
       "    .dataframe tbody tr th {\n",
       "        vertical-align: top;\n",
       "    }\n",
       "\n",
       "    .dataframe thead th {\n",
       "        text-align: right;\n",
       "    }\n",
       "</style>\n",
       "<table border=\"1\" class=\"dataframe\">\n",
       "  <thead>\n",
       "    <tr style=\"text-align: right;\">\n",
       "      <th></th>\n",
       "      <th>user_id</th>\n",
       "      <th>skill_id</th>\n",
       "    </tr>\n",
       "  </thead>\n",
       "  <tbody>\n",
       "    <tr>\n",
       "      <th>2</th>\n",
       "      <td>151</td>\n",
       "      <td>3</td>\n",
       "    </tr>\n",
       "    <tr>\n",
       "      <th>3</th>\n",
       "      <td>151</td>\n",
       "      <td>4</td>\n",
       "    </tr>\n",
       "    <tr>\n",
       "      <th>4</th>\n",
       "      <td>151</td>\n",
       "      <td>5</td>\n",
       "    </tr>\n",
       "    <tr>\n",
       "      <th>5</th>\n",
       "      <td>151</td>\n",
       "      <td>6</td>\n",
       "    </tr>\n",
       "    <tr>\n",
       "      <th>6</th>\n",
       "      <td>151</td>\n",
       "      <td>8</td>\n",
       "    </tr>\n",
       "    <tr>\n",
       "      <th>7</th>\n",
       "      <td>151</td>\n",
       "      <td>9</td>\n",
       "    </tr>\n",
       "    <tr>\n",
       "      <th>8</th>\n",
       "      <td>151</td>\n",
       "      <td>11</td>\n",
       "    </tr>\n",
       "    <tr>\n",
       "      <th>9</th>\n",
       "      <td>151</td>\n",
       "      <td>12</td>\n",
       "    </tr>\n",
       "    <tr>\n",
       "      <th>10</th>\n",
       "      <td>151</td>\n",
       "      <td>13</td>\n",
       "    </tr>\n",
       "    <tr>\n",
       "      <th>11</th>\n",
       "      <td>151</td>\n",
       "      <td>200</td>\n",
       "    </tr>\n",
       "    <tr>\n",
       "      <th>12</th>\n",
       "      <td>151</td>\n",
       "      <td>1054</td>\n",
       "    </tr>\n",
       "    <tr>\n",
       "      <th>13</th>\n",
       "      <td>151</td>\n",
       "      <td>999999</td>\n",
       "    </tr>\n",
       "  </tbody>\n",
       "</table>\n",
       "</div>"
      ],
      "text/plain": [
       "    user_id  skill_id\n",
       "2       151         3\n",
       "3       151         4\n",
       "4       151         5\n",
       "5       151         6\n",
       "6       151         8\n",
       "7       151         9\n",
       "8       151        11\n",
       "9       151        12\n",
       "10      151        13\n",
       "11      151       200\n",
       "12      151      1054\n",
       "13      151    999999"
      ]
     },
     "execution_count": 18,
     "metadata": {},
     "output_type": "execute_result"
    }
   ],
   "source": [
    "# Accessing the schools of particular user\n",
    "df_skills_grouped.get_group(151)"
   ]
  },
  {
   "cell_type": "code",
   "execution_count": 19,
   "metadata": {},
   "outputs": [
    {
     "data": {
      "text/html": [
       "<div>\n",
       "<style scoped>\n",
       "    .dataframe tbody tr th:only-of-type {\n",
       "        vertical-align: middle;\n",
       "    }\n",
       "\n",
       "    .dataframe tbody tr th {\n",
       "        vertical-align: top;\n",
       "    }\n",
       "\n",
       "    .dataframe thead th {\n",
       "        text-align: right;\n",
       "    }\n",
       "</style>\n",
       "<table border=\"1\" class=\"dataframe\">\n",
       "  <thead>\n",
       "    <tr style=\"text-align: right;\">\n",
       "      <th></th>\n",
       "      <th>user_id</th>\n",
       "      <th>skill_id</th>\n",
       "    </tr>\n",
       "  </thead>\n",
       "  <tbody>\n",
       "    <tr>\n",
       "      <th>443</th>\n",
       "      <td>931</td>\n",
       "      <td>11</td>\n",
       "    </tr>\n",
       "    <tr>\n",
       "      <th>444</th>\n",
       "      <td>931</td>\n",
       "      <td>19</td>\n",
       "    </tr>\n",
       "    <tr>\n",
       "      <th>445</th>\n",
       "      <td>931</td>\n",
       "      <td>34</td>\n",
       "    </tr>\n",
       "    <tr>\n",
       "      <th>446</th>\n",
       "      <td>931</td>\n",
       "      <td>43</td>\n",
       "    </tr>\n",
       "    <tr>\n",
       "      <th>447</th>\n",
       "      <td>931</td>\n",
       "      <td>45</td>\n",
       "    </tr>\n",
       "    <tr>\n",
       "      <th>448</th>\n",
       "      <td>931</td>\n",
       "      <td>76</td>\n",
       "    </tr>\n",
       "    <tr>\n",
       "      <th>449</th>\n",
       "      <td>931</td>\n",
       "      <td>200</td>\n",
       "    </tr>\n",
       "    <tr>\n",
       "      <th>450</th>\n",
       "      <td>931</td>\n",
       "      <td>999999</td>\n",
       "    </tr>\n",
       "    <tr>\n",
       "      <th>451</th>\n",
       "      <td>931</td>\n",
       "      <td>258</td>\n",
       "    </tr>\n",
       "    <tr>\n",
       "      <th>452</th>\n",
       "      <td>931</td>\n",
       "      <td>259</td>\n",
       "    </tr>\n",
       "  </tbody>\n",
       "</table>\n",
       "</div>"
      ],
      "text/plain": [
       "     user_id  skill_id\n",
       "443      931        11\n",
       "444      931        19\n",
       "445      931        34\n",
       "446      931        43\n",
       "447      931        45\n",
       "448      931        76\n",
       "449      931       200\n",
       "450      931    999999\n",
       "451      931       258\n",
       "452      931       259"
      ]
     },
     "execution_count": 19,
     "metadata": {},
     "output_type": "execute_result"
    }
   ],
   "source": [
    "df_skills_grouped.get_group(931)"
   ]
  },
  {
   "cell_type": "code",
   "execution_count": 20,
   "metadata": {},
   "outputs": [],
   "source": [
    "# Utility function to lookup values in `df_skills_grouped`\n",
    "def get_common_info(userA, userB, df_info, var):\n",
    "    \"\"\"\n",
    "    Lookup group of info for userA and userB\n",
    "    \n",
    "    `df_info` can be replaced by `df_school` or any other which conveys extra\n",
    "    about `userA` or `userB` BUT MUST BE GROUPED BY `user_id`\n",
    "    \n",
    "    \n",
    "    Returns\n",
    "        has_common_info: boolean: whether the users have common school\n",
    "        n_common_info: int: count of schools common between the users\n",
    "    \"\"\"\n",
    "    userA = int(userA)\n",
    "    userB = int(userB)\n",
    "    #\n",
    "    # try block if no info is present\n",
    "    try:\n",
    "        # feteching skills \n",
    "        uA_info = set(df_info.get_group(userA)[var].values)\n",
    "        uB_info = set(df_info.get_group(userB)[var].values)\n",
    "        commons = uA_info.intersection(uB_info)\n",
    "        #\n",
    "        # if info has only 999999 (i.e. the group of less freq info); DEFINED BY PROBLEM STATEMENT\n",
    "        if ( 999999 in commons) and (len(commons - {999999, }) <1):\n",
    "            return True, -2\n",
    "        # else find the common info expect\n",
    "        n_common_info = len( commons-{999999, })\n",
    "        has_common_info = True if n_common_info > 0 else False\n",
    "    # when no school information is present\n",
    "    except Exception as e:\n",
    "        return False, -1\n",
    "    return has_common_info, n_common_info\n",
    "\n",
    "# Testing the function\n",
    "# get_common_schools(151, 931, df_skills_grouped, var='skill_id')\n",
    "# get_common_schools(51, 5371)\n",
    "# get_common_schools(151, 41)"
   ]
  },
  {
   "cell_type": "markdown",
   "metadata": {},
   "source": [
    "### Creating features"
   ]
  },
  {
   "cell_type": "code",
   "execution_count": 22,
   "metadata": {},
   "outputs": [],
   "source": [
    "# Generating Features\n",
    "temp = df_train.apply(lambda x: get_common_info(x.userA_id, x.userB_id, df_skills_grouped, var='skill_id'),\n",
    "                  axis=1)\n",
    "temp = np.array(temp.to_list())\n",
    "df_train['has_common_skills'] = temp[:, 0] \n",
    "df_train['n_common_skills'] = temp[:, 1]"
   ]
  },
  {
   "cell_type": "code",
   "execution_count": 23,
   "metadata": {},
   "outputs": [
    {
     "data": {
      "text/html": [
       "<div>\n",
       "<style scoped>\n",
       "    .dataframe tbody tr th:only-of-type {\n",
       "        vertical-align: middle;\n",
       "    }\n",
       "\n",
       "    .dataframe tbody tr th {\n",
       "        vertical-align: top;\n",
       "    }\n",
       "\n",
       "    .dataframe thead th {\n",
       "        text-align: right;\n",
       "    }\n",
       "</style>\n",
       "<table border=\"1\" class=\"dataframe\">\n",
       "  <thead>\n",
       "    <tr style=\"text-align: right;\">\n",
       "      <th></th>\n",
       "      <th>from-to</th>\n",
       "      <th>score</th>\n",
       "      <th>userA_id</th>\n",
       "      <th>userB_id</th>\n",
       "      <th>has_common_skills</th>\n",
       "      <th>n_common_skills</th>\n",
       "    </tr>\n",
       "  </thead>\n",
       "  <tbody>\n",
       "    <tr>\n",
       "      <th>88555</th>\n",
       "      <td>4769697-6308211</td>\n",
       "      <td>3</td>\n",
       "      <td>4769697</td>\n",
       "      <td>6308211</td>\n",
       "      <td>0</td>\n",
       "      <td>-1</td>\n",
       "    </tr>\n",
       "    <tr>\n",
       "      <th>327058</th>\n",
       "      <td>2227465-17278</td>\n",
       "      <td>3</td>\n",
       "      <td>2227465</td>\n",
       "      <td>17278</td>\n",
       "      <td>0</td>\n",
       "      <td>-1</td>\n",
       "    </tr>\n",
       "    <tr>\n",
       "      <th>692370</th>\n",
       "      <td>31105-531</td>\n",
       "      <td>2</td>\n",
       "      <td>31105</td>\n",
       "      <td>531</td>\n",
       "      <td>0</td>\n",
       "      <td>-1</td>\n",
       "    </tr>\n",
       "    <tr>\n",
       "      <th>697281</th>\n",
       "      <td>24072-1012437</td>\n",
       "      <td>0</td>\n",
       "      <td>24072</td>\n",
       "      <td>1012437</td>\n",
       "      <td>1</td>\n",
       "      <td>1</td>\n",
       "    </tr>\n",
       "    <tr>\n",
       "      <th>902348</th>\n",
       "      <td>829489-49256</td>\n",
       "      <td>2</td>\n",
       "      <td>829489</td>\n",
       "      <td>49256</td>\n",
       "      <td>1</td>\n",
       "      <td>5</td>\n",
       "    </tr>\n",
       "  </tbody>\n",
       "</table>\n",
       "</div>"
      ],
      "text/plain": [
       "                from-to score userA_id userB_id  has_common_skills  \\\n",
       "88555   4769697-6308211     3  4769697  6308211                  0   \n",
       "327058    2227465-17278     3  2227465    17278                  0   \n",
       "692370        31105-531     2    31105      531                  0   \n",
       "697281    24072-1012437     0    24072  1012437                  1   \n",
       "902348     829489-49256     2   829489    49256                  1   \n",
       "\n",
       "        n_common_skills  \n",
       "88555                -1  \n",
       "327058               -1  \n",
       "692370               -1  \n",
       "697281                1  \n",
       "902348                5  "
      ]
     },
     "execution_count": 23,
     "metadata": {},
     "output_type": "execute_result"
    }
   ],
   "source": [
    "# Preview of new features\n",
    "df_train.head()"
   ]
  },
  {
   "cell_type": "code",
   "execution_count": 24,
   "metadata": {},
   "outputs": [
    {
     "name": "stdout",
     "output_type": "stream",
     "text": [
      "DESCRIPTION                  Proportion      N\n",
      "-------------------------  ------------  -----\n",
      "No Skills info                 46.442    14358\n",
      "Having of only rare skill       2.73645    846\n",
      "Having Common Skills           13.2262    4089\n",
      "Not having common skills       25.1456    7774\n"
     ]
    }
   ],
   "source": [
    "# Stats on new feature\n",
    "#\n",
    "var = 'n_common_skills'\n",
    "#\n",
    "value = []\n",
    "for i in [-1, -2, 1, 0]:\n",
    "    value.append( len(df_train[df_train[var]==i]))\n",
    "#\n",
    "# for beautifying display\n",
    "sample_size = df_train.shape[0]\n",
    "data = [\n",
    "    ('DESCRIPTION', 'Proportion', 'N'),\n",
    "    ('No Skills info', value[0] *100/ sample_size, value[0]),\n",
    "    ('Having of only rare skill', value[1] *100/sample_size, value[1]),\n",
    "    ('Having Common Skills', value[2] *100/ sample_size, value[2]),\n",
    "    ('Not having common skills', value[3] *100/ sample_size, value[3]),\n",
    "]\n",
    "print(tabulate(data, headers='firstrow'))"
   ]
  },
  {
   "cell_type": "markdown",
   "metadata": {},
   "source": [
    "---\n",
    "### Is there a relation between having to same skills and compatibility?"
   ]
  },
  {
   "cell_type": "code",
   "execution_count": 26,
   "metadata": {},
   "outputs": [
    {
     "data": {
      "text/html": [
       "<div>\n",
       "<style scoped>\n",
       "    .dataframe tbody tr th:only-of-type {\n",
       "        vertical-align: middle;\n",
       "    }\n",
       "\n",
       "    .dataframe tbody tr th {\n",
       "        vertical-align: top;\n",
       "    }\n",
       "\n",
       "    .dataframe thead th {\n",
       "        text-align: right;\n",
       "    }\n",
       "</style>\n",
       "<table border=\"1\" class=\"dataframe\">\n",
       "  <thead>\n",
       "    <tr style=\"text-align: right;\">\n",
       "      <th>score</th>\n",
       "      <th>0.0</th>\n",
       "      <th>1.0</th>\n",
       "      <th>2.0</th>\n",
       "      <th>3.0</th>\n",
       "      <th>All</th>\n",
       "    </tr>\n",
       "    <tr>\n",
       "      <th>has_common_skills</th>\n",
       "      <th></th>\n",
       "      <th></th>\n",
       "      <th></th>\n",
       "      <th></th>\n",
       "      <th></th>\n",
       "    </tr>\n",
       "  </thead>\n",
       "  <tbody>\n",
       "    <tr>\n",
       "      <th>0</th>\n",
       "      <td>5875</td>\n",
       "      <td>5556</td>\n",
       "      <td>5368</td>\n",
       "      <td>5333</td>\n",
       "      <td>22132</td>\n",
       "    </tr>\n",
       "    <tr>\n",
       "      <th>1</th>\n",
       "      <td>1854</td>\n",
       "      <td>2173</td>\n",
       "      <td>2361</td>\n",
       "      <td>2396</td>\n",
       "      <td>8784</td>\n",
       "    </tr>\n",
       "    <tr>\n",
       "      <th>All</th>\n",
       "      <td>7729</td>\n",
       "      <td>7729</td>\n",
       "      <td>7729</td>\n",
       "      <td>7729</td>\n",
       "      <td>30916</td>\n",
       "    </tr>\n",
       "  </tbody>\n",
       "</table>\n",
       "</div>"
      ],
      "text/plain": [
       "score               0.0   1.0   2.0   3.0    All\n",
       "has_common_skills                               \n",
       "0                  5875  5556  5368  5333  22132\n",
       "1                  1854  2173  2361  2396   8784\n",
       "All                7729  7729  7729  7729  30916"
      ]
     },
     "execution_count": 26,
     "metadata": {},
     "output_type": "execute_result"
    }
   ],
   "source": [
    "# Creating contingency table\n",
    "skill_v_score = pd.crosstab(df_train['has_common_skills'], df_train['score'], margins=True)\n",
    "skill_v_score"
   ]
  },
  {
   "cell_type": "code",
   "execution_count": 28,
   "metadata": {},
   "outputs": [
    {
     "name": "stdout",
     "output_type": "stream",
     "text": [
      "pValue : 1.0872722960153357e-21\n"
     ]
    }
   ],
   "source": [
    "# Stats value\n",
    "tstat, p , dof, exp = chi2_contingency( skill_v_score)\n",
    "print(f'pValue : {p}')"
   ]
  },
  {
   "cell_type": "markdown",
   "metadata": {},
   "source": [
    "- $p-Value = 1.08e-21 < 0.05$(critical_value) \n",
    "this implies that there is strong evidence against the $H_0$ hypothesis.\n",
    "Hence we can reject the \n",
    "$H_0$ : there is not relationship between having to common skill and compatibility of users.\n",
    "\n",
    "CONCLUSION : `has_common_skill` can be used as predictor variable as statiscally verified that there exists relationship between having to same skill and compatibility."
   ]
  },
  {
   "cell_type": "code",
   "execution_count": 53,
   "metadata": {},
   "outputs": [
    {
     "data": {
      "image/png": "[encoded data removed]",
      "text/plain": [
       "<Figure size 720x576 with 1 Axes>"
      ]
     },
     "metadata": {
      "needs_background": "light"
     },
     "output_type": "display_data"
    }
   ],
   "source": [
    "sns.boxplot(\n",
    "    data=df_train,\n",
    "    x='score',\n",
    "    y='n_common_skills'\n",
    ");\n",
    "# plt.axis('off')\n",
    "# plt.y"
   ]
  },
  {
   "cell_type": "markdown",
   "metadata": {},
   "source": [
    "- negative `n_common_skills` corresponds to `not_having_skill_info` or `belonging to 999999` (rare_skill)\n",
    "- `Q3` for other than compatibility `0` are significantly different compared to compatibility `0`."
   ]
  }
 ],
 "metadata": {
  "kernelspec": {
   "display_name": "Python 3",
   "language": "python",
   "name": "python3"
  },
  "language_info": {
   "codemirror_mode": {
    "name": "ipython",
    "version": 3
   },
   "file_extension": ".py",
   "mimetype": "text/x-python",
   "name": "python",
   "nbconvert_exporter": "python",
   "pygments_lexer": "ipython3",
   "version": "3.8.3"
  }
 },
 "nbformat": 4,
 "nbformat_minor": 4
}
