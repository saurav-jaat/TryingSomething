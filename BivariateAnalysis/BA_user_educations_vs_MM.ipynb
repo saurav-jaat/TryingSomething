{
 "cells": [
  {
   "cell_type": "code",
   "execution_count": 15,
   "metadata": {},
   "outputs": [],
   "source": [
    "# Loading Libraries\n",
    "import pandas as pd\n",
    "import matplotlib.pyplot as plt\n",
    "import numpy as np\n",
    "from tabulate import tabulate\n",
    "\n",
    "from sklearn.utils import shuffle\n",
    "from sklearn.model_selection import train_test_split as ttsplit\n",
    "from scipy.stats import chi2_contingency\n",
    "import seaborn as sns\n",
    "\n",
    "\n",
    "%matplotlib inline\n",
    "plt.rcParams['figure.figsize']=(10,8)\n",
    "\n",
    "RANDOM_STATE = 53"
   ]
  },
  {
   "cell_type": "code",
   "execution_count": 16,
   "metadata": {},
   "outputs": [],
   "source": [
    "# PATH\n",
    "DATA_TRAIN_PATH = '../../data_v2/train.csv'\n",
    "DATA_SCHOOL_PATH = '../../data_v2/user_educations.csv'\n",
    "\n",
    "# CONSTANTS\n",
    "SAMPLE_SIZE = int(2e4)"
   ]
  },
  {
   "cell_type": "code",
   "execution_count": 17,
   "metadata": {},
   "outputs": [
    {
     "data": {
      "text/plain": [
       "((903605, 2),\n",
       "            from-to  score\n",
       " 0    6320501-27657    0.0\n",
       " 1  6310893-6295314    1.0\n",
       " 2  6285646-6303434    3.0\n",
       " 3   870193-6275811    1.0\n",
       " 4  6270099-6270025    0.0)"
      ]
     },
     "execution_count": 17,
     "metadata": {},
     "output_type": "execute_result"
    }
   ],
   "source": [
    "# Loading Data\n",
    "df = pd.read_csv(DATA_TRAIN_PATH)\n",
    "df.shape, df.head()"
   ]
  },
  {
   "cell_type": "code",
   "execution_count": 18,
   "metadata": {},
   "outputs": [
    {
     "data": {
      "text/plain": [
       "from-to     object\n",
       "score      float64\n",
       "dtype: object"
      ]
     },
     "execution_count": 18,
     "metadata": {},
     "output_type": "execute_result"
    }
   ],
   "source": [
    "# finding datatypes\n",
    "df.dtypes"
   ]
  },
  {
   "cell_type": "code",
   "execution_count": 19,
   "metadata": {},
   "outputs": [
    {
     "data": {
      "text/html": [
       "<div>\n",
       "<style scoped>\n",
       "    .dataframe tbody tr th:only-of-type {\n",
       "        vertical-align: middle;\n",
       "    }\n",
       "\n",
       "    .dataframe tbody tr th {\n",
       "        vertical-align: top;\n",
       "    }\n",
       "\n",
       "    .dataframe thead th {\n",
       "        text-align: right;\n",
       "    }\n",
       "</style>\n",
       "<table border=\"1\" class=\"dataframe\">\n",
       "  <thead>\n",
       "    <tr style=\"text-align: right;\">\n",
       "      <th></th>\n",
       "      <th>from-to</th>\n",
       "      <th>score</th>\n",
       "      <th>userA_id</th>\n",
       "      <th>userB_id</th>\n",
       "    </tr>\n",
       "  </thead>\n",
       "  <tbody>\n",
       "    <tr>\n",
       "      <th>0</th>\n",
       "      <td>6320501-27657</td>\n",
       "      <td>0.0</td>\n",
       "      <td>6320501</td>\n",
       "      <td>27657</td>\n",
       "    </tr>\n",
       "    <tr>\n",
       "      <th>1</th>\n",
       "      <td>6310893-6295314</td>\n",
       "      <td>1.0</td>\n",
       "      <td>6310893</td>\n",
       "      <td>6295314</td>\n",
       "    </tr>\n",
       "    <tr>\n",
       "      <th>2</th>\n",
       "      <td>6285646-6303434</td>\n",
       "      <td>3.0</td>\n",
       "      <td>6285646</td>\n",
       "      <td>6303434</td>\n",
       "    </tr>\n",
       "    <tr>\n",
       "      <th>3</th>\n",
       "      <td>870193-6275811</td>\n",
       "      <td>1.0</td>\n",
       "      <td>870193</td>\n",
       "      <td>6275811</td>\n",
       "    </tr>\n",
       "    <tr>\n",
       "      <th>4</th>\n",
       "      <td>6270099-6270025</td>\n",
       "      <td>0.0</td>\n",
       "      <td>6270099</td>\n",
       "      <td>6270025</td>\n",
       "    </tr>\n",
       "  </tbody>\n",
       "</table>\n",
       "</div>"
      ],
      "text/plain": [
       "           from-to  score userA_id userB_id\n",
       "0    6320501-27657    0.0  6320501    27657\n",
       "1  6310893-6295314    1.0  6310893  6295314\n",
       "2  6285646-6303434    3.0  6285646  6303434\n",
       "3   870193-6275811    1.0   870193  6275811\n",
       "4  6270099-6270025    0.0  6270099  6270025"
      ]
     },
     "execution_count": 19,
     "metadata": {},
     "output_type": "execute_result"
    }
   ],
   "source": [
    "#Separating the `from-to` column\n",
    "temp = np.array(df['from-to'].apply(lambda x: x.split('-')).to_list())\n",
    "df['userA_id'] = temp[:, 0]\n",
    "df['userB_id'] = temp[:, 1]\n",
    "df.head()"
   ]
  },
  {
   "cell_type": "code",
   "execution_count": 20,
   "metadata": {},
   "outputs": [
    {
     "data": {
      "text/plain": [
       "from-to      object\n",
       "score       float64\n",
       "userA_id     object\n",
       "userB_id     object\n",
       "dtype: object"
      ]
     },
     "execution_count": 20,
     "metadata": {},
     "output_type": "execute_result"
    }
   ],
   "source": [
    "# Checking types again\n",
    "df.dtypes"
   ]
  },
  {
   "cell_type": "code",
   "execution_count": 21,
   "metadata": {},
   "outputs": [],
   "source": [
    "# Fixing type variables\n",
    "type_correction = {'score': 'object',\n",
    "                  }\n",
    "df = df.astype(type_correction)"
   ]
  },
  {
   "cell_type": "code",
   "execution_count": 22,
   "metadata": {},
   "outputs": [
    {
     "data": {
      "text/plain": [
       "from-to     0.0\n",
       "score       0.0\n",
       "userA_id    0.0\n",
       "userB_id    0.0\n",
       "dtype: float64"
      ]
     },
     "execution_count": 22,
     "metadata": {},
     "output_type": "execute_result"
    }
   ],
   "source": [
    "# Missing Value Proportions\n",
    "np.round(df.isnull().sum()/df.shape[0] * 100, 2)"
   ]
  },
  {
   "cell_type": "code",
   "execution_count": 23,
   "metadata": {},
   "outputs": [
    {
     "data": {
      "text/plain": [
       "from-to     903605\n",
       "score            4\n",
       "userA_id     34833\n",
       "userB_id     33689\n",
       "dtype: int64"
      ]
     },
     "execution_count": 23,
     "metadata": {},
     "output_type": "execute_result"
    }
   ],
   "source": [
    "# Count of Uniuqe Categories\n",
    "df.nunique()"
   ]
  },
  {
   "cell_type": "markdown",
   "metadata": {},
   "source": [
    " **Important**\n",
    " \n",
    " - no duplicate rows present because unique `from-to` is in accord with no. of observations."
   ]
  },
  {
   "cell_type": "code",
   "execution_count": 24,
   "metadata": {},
   "outputs": [
    {
     "data": {
      "text/plain": [
       "0.0    49.939741\n",
       "1.0    45.036935\n",
       "3.0     4.167861\n",
       "2.0     0.855462\n",
       "Name: score, dtype: float64"
      ]
     },
     "execution_count": 24,
     "metadata": {},
     "output_type": "execute_result"
    }
   ],
   "source": [
    "# Proportions of output labels\n",
    "df['score'].value_counts(normalize=True)*100"
   ]
  },
  {
   "cell_type": "code",
   "execution_count": 25,
   "metadata": {},
   "outputs": [],
   "source": [
    "# Subsetting Dataset to balance the output labels\n",
    "df_label_3 = df[df['score'] == 3]\n",
    "df_label_2 = df[df['score'] == 2]\n",
    "df_label_1 = df[df['score'] == 1]\n",
    "df_label_0 = df[df['score'] == 0]\n",
    "\n",
    "# getting least freq label count\n",
    "sample_size = min(df_label_3.shape[0],\n",
    "    df_label_2.shape[0],\n",
    "    df_label_1.shape[0],\n",
    "    df_label_0.shape[0]) - 1\n",
    "\n",
    "# Randomly selecting observations such that the classes are balanced\n",
    "df_label_3, _ = ttsplit(df_label_3, random_state=RANDOM_STATE, train_size=sample_size)\n",
    "df_label_2, _ = ttsplit(df_label_2, random_state=RANDOM_STATE, train_size=sample_size)\n",
    "df_label_1, _ = ttsplit(df_label_1, random_state=RANDOM_STATE, train_size=sample_size)\n",
    "df_label_0, _ = ttsplit(df_label_0, random_state=RANDOM_STATE, train_size=sample_size)\n"
   ]
  },
  {
   "cell_type": "code",
   "execution_count": 26,
   "metadata": {},
   "outputs": [],
   "source": [
    "# merging the parts\n",
    "parts = [df_label_3, df_label_2, df_label_1, df_label_0]\n",
    "df_train = pd.concat(parts)\n",
    "df_train = shuffle(df_train, random_state=RANDOM_STATE)"
   ]
  },
  {
   "cell_type": "code",
   "execution_count": 27,
   "metadata": {},
   "outputs": [
    {
     "data": {
      "text/plain": [
       "3.0    25.0\n",
       "2.0    25.0\n",
       "1.0    25.0\n",
       "0.0    25.0\n",
       "Name: score, dtype: float64"
      ]
     },
     "execution_count": 27,
     "metadata": {},
     "output_type": "execute_result"
    }
   ],
   "source": [
    "# Rechecking proportions\n",
    "df_train['score'].value_counts(normalize=True)*100"
   ]
  },
  {
   "cell_type": "code",
   "execution_count": 28,
   "metadata": {},
   "outputs": [
    {
     "data": {
      "text/plain": [
       "15583"
      ]
     },
     "execution_count": 28,
     "metadata": {},
     "output_type": "execute_result"
    }
   ],
   "source": [
    "# No. of uniuqe users for whom the relations are defined\n",
    "len(set(df_train['userA_id'].to_list() +df_train['userB_id'].to_list()))"
   ]
  },
  {
   "cell_type": "code",
   "execution_count": 29,
   "metadata": {},
   "outputs": [
    {
     "data": {
      "text/html": [
       "<div>\n",
       "<style scoped>\n",
       "    .dataframe tbody tr th:only-of-type {\n",
       "        vertical-align: middle;\n",
       "    }\n",
       "\n",
       "    .dataframe tbody tr th {\n",
       "        vertical-align: top;\n",
       "    }\n",
       "\n",
       "    .dataframe thead th {\n",
       "        text-align: right;\n",
       "    }\n",
       "</style>\n",
       "<table border=\"1\" class=\"dataframe\">\n",
       "  <thead>\n",
       "    <tr style=\"text-align: right;\">\n",
       "      <th></th>\n",
       "      <th>count</th>\n",
       "      <th>mean</th>\n",
       "      <th>std</th>\n",
       "      <th>min</th>\n",
       "      <th>25%</th>\n",
       "      <th>50%</th>\n",
       "      <th>75%</th>\n",
       "      <th>max</th>\n",
       "    </tr>\n",
       "  </thead>\n",
       "  <tbody>\n",
       "    <tr>\n",
       "      <th>0</th>\n",
       "      <td>22116.0</td>\n",
       "      <td>2.795804</td>\n",
       "      <td>4.519357</td>\n",
       "      <td>1.0</td>\n",
       "      <td>1.0</td>\n",
       "      <td>1.0</td>\n",
       "      <td>3.0</td>\n",
       "      <td>289.0</td>\n",
       "    </tr>\n",
       "  </tbody>\n",
       "</table>\n",
       "</div>"
      ],
      "text/plain": [
       "     count      mean       std  min  25%  50%  75%    max\n",
       "0  22116.0  2.795804  4.519357  1.0  1.0  1.0  3.0  289.0"
      ]
     },
     "execution_count": 29,
     "metadata": {},
     "output_type": "execute_result"
    }
   ],
   "source": [
    "# What is statistics of number of realtions defined for a user in the given data?\n",
    "df = df_train['userA_id'].value_counts().values\n",
    "df = np.append(df, df_train['userB_id'].value_counts().values)\n",
    "pd.DataFrame(df).describe().T"
   ]
  },
  {
   "cell_type": "markdown",
   "metadata": {},
   "source": [
    "- atmost 3 relations are given for the 75% of the user group\n",
    "- maximum relation given for a user is 289"
   ]
  },
  {
   "cell_type": "code",
   "execution_count": 31,
   "metadata": {},
   "outputs": [
    {
     "data": {
      "text/plain": [
       "(30916, 4)"
      ]
     },
     "execution_count": 31,
     "metadata": {},
     "output_type": "execute_result"
    }
   ],
   "source": [
    "# Sampling the data\n",
    "df_train.shape"
   ]
  },
  {
   "cell_type": "markdown",
   "metadata": {},
   "source": [
    "## Relation against the user_school_id to the score of matchmaking(MM) / compatibility"
   ]
  },
  {
   "cell_type": "code",
   "execution_count": 32,
   "metadata": {},
   "outputs": [
    {
     "data": {
      "text/html": [
       "<div>\n",
       "<style scoped>\n",
       "    .dataframe tbody tr th:only-of-type {\n",
       "        vertical-align: middle;\n",
       "    }\n",
       "\n",
       "    .dataframe tbody tr th {\n",
       "        vertical-align: top;\n",
       "    }\n",
       "\n",
       "    .dataframe thead th {\n",
       "        text-align: right;\n",
       "    }\n",
       "</style>\n",
       "<table border=\"1\" class=\"dataframe\">\n",
       "  <thead>\n",
       "    <tr style=\"text-align: right;\">\n",
       "      <th></th>\n",
       "      <th>user_id</th>\n",
       "      <th>school_id</th>\n",
       "      <th>degree_id</th>\n",
       "    </tr>\n",
       "  </thead>\n",
       "  <tbody>\n",
       "    <tr>\n",
       "      <th>0</th>\n",
       "      <td>151</td>\n",
       "      <td>11825.0</td>\n",
       "      <td>2.0</td>\n",
       "    </tr>\n",
       "    <tr>\n",
       "      <th>1</th>\n",
       "      <td>151</td>\n",
       "      <td>13556.0</td>\n",
       "      <td>NaN</td>\n",
       "    </tr>\n",
       "    <tr>\n",
       "      <th>2</th>\n",
       "      <td>41</td>\n",
       "      <td>11929.0</td>\n",
       "      <td>1.0</td>\n",
       "    </tr>\n",
       "    <tr>\n",
       "      <th>3</th>\n",
       "      <td>41</td>\n",
       "      <td>13087.0</td>\n",
       "      <td>NaN</td>\n",
       "    </tr>\n",
       "    <tr>\n",
       "      <th>4</th>\n",
       "      <td>51</td>\n",
       "      <td>999999.0</td>\n",
       "      <td>NaN</td>\n",
       "    </tr>\n",
       "  </tbody>\n",
       "</table>\n",
       "</div>"
      ],
      "text/plain": [
       "   user_id  school_id  degree_id\n",
       "0      151    11825.0        2.0\n",
       "1      151    13556.0        NaN\n",
       "2       41    11929.0        1.0\n",
       "3       41    13087.0        NaN\n",
       "4       51   999999.0        NaN"
      ]
     },
     "execution_count": 32,
     "metadata": {},
     "output_type": "execute_result"
    }
   ],
   "source": [
    "# Loading school_id\n",
    "df_school = pd.read_csv(DATA_SCHOOL_PATH)\n",
    "df_school.head()"
   ]
  },
  {
   "cell_type": "markdown",
   "metadata": {},
   "source": [
    "Considering insgihts from the UA of `df_school`\n",
    " - `degree_id` had 99% of missing values and need to be dropped"
   ]
  },
  {
   "cell_type": "code",
   "execution_count": 33,
   "metadata": {},
   "outputs": [
    {
     "data": {
      "text/html": [
       "<div>\n",
       "<style scoped>\n",
       "    .dataframe tbody tr th:only-of-type {\n",
       "        vertical-align: middle;\n",
       "    }\n",
       "\n",
       "    .dataframe tbody tr th {\n",
       "        vertical-align: top;\n",
       "    }\n",
       "\n",
       "    .dataframe thead th {\n",
       "        text-align: right;\n",
       "    }\n",
       "</style>\n",
       "<table border=\"1\" class=\"dataframe\">\n",
       "  <thead>\n",
       "    <tr style=\"text-align: right;\">\n",
       "      <th></th>\n",
       "      <th>user_id</th>\n",
       "      <th>school_id</th>\n",
       "    </tr>\n",
       "  </thead>\n",
       "  <tbody>\n",
       "    <tr>\n",
       "      <th>0</th>\n",
       "      <td>151</td>\n",
       "      <td>11825.0</td>\n",
       "    </tr>\n",
       "    <tr>\n",
       "      <th>1</th>\n",
       "      <td>151</td>\n",
       "      <td>13556.0</td>\n",
       "    </tr>\n",
       "    <tr>\n",
       "      <th>2</th>\n",
       "      <td>41</td>\n",
       "      <td>11929.0</td>\n",
       "    </tr>\n",
       "    <tr>\n",
       "      <th>3</th>\n",
       "      <td>41</td>\n",
       "      <td>13087.0</td>\n",
       "    </tr>\n",
       "    <tr>\n",
       "      <th>4</th>\n",
       "      <td>51</td>\n",
       "      <td>999999.0</td>\n",
       "    </tr>\n",
       "  </tbody>\n",
       "</table>\n",
       "</div>"
      ],
      "text/plain": [
       "   user_id  school_id\n",
       "0      151    11825.0\n",
       "1      151    13556.0\n",
       "2       41    11929.0\n",
       "3       41    13087.0\n",
       "4       51   999999.0"
      ]
     },
     "execution_count": 33,
     "metadata": {},
     "output_type": "execute_result"
    }
   ],
   "source": [
    "# dropping `degree_id`\n",
    "df_school.drop('degree_id', axis=1, inplace=True)\n",
    "df_school.head()"
   ]
  },
  {
   "cell_type": "code",
   "execution_count": 34,
   "metadata": {},
   "outputs": [],
   "source": [
    "# Grouping the schools by user_id\n",
    "df_school_grouped = df_school.groupby('user_id')"
   ]
  },
  {
   "cell_type": "code",
   "execution_count": 35,
   "metadata": {},
   "outputs": [
    {
     "data": {
      "text/html": [
       "<div>\n",
       "<style scoped>\n",
       "    .dataframe tbody tr th:only-of-type {\n",
       "        vertical-align: middle;\n",
       "    }\n",
       "\n",
       "    .dataframe tbody tr th {\n",
       "        vertical-align: top;\n",
       "    }\n",
       "\n",
       "    .dataframe thead th {\n",
       "        text-align: right;\n",
       "    }\n",
       "</style>\n",
       "<table border=\"1\" class=\"dataframe\">\n",
       "  <thead>\n",
       "    <tr style=\"text-align: right;\">\n",
       "      <th></th>\n",
       "      <th>user_id</th>\n",
       "      <th>school_id</th>\n",
       "    </tr>\n",
       "  </thead>\n",
       "  <tbody>\n",
       "    <tr>\n",
       "      <th>0</th>\n",
       "      <td>151</td>\n",
       "      <td>11825.0</td>\n",
       "    </tr>\n",
       "    <tr>\n",
       "      <th>1</th>\n",
       "      <td>151</td>\n",
       "      <td>13556.0</td>\n",
       "    </tr>\n",
       "  </tbody>\n",
       "</table>\n",
       "</div>"
      ],
      "text/plain": [
       "   user_id  school_id\n",
       "0      151    11825.0\n",
       "1      151    13556.0"
      ]
     },
     "execution_count": 35,
     "metadata": {},
     "output_type": "execute_result"
    }
   ],
   "source": [
    "# Accessing the schools of particular user\n",
    "df_school_grouped.get_group(151)"
   ]
  },
  {
   "cell_type": "code",
   "execution_count": 36,
   "metadata": {},
   "outputs": [
    {
     "data": {
      "text/html": [
       "<div>\n",
       "<style scoped>\n",
       "    .dataframe tbody tr th:only-of-type {\n",
       "        vertical-align: middle;\n",
       "    }\n",
       "\n",
       "    .dataframe tbody tr th {\n",
       "        vertical-align: top;\n",
       "    }\n",
       "\n",
       "    .dataframe thead th {\n",
       "        text-align: right;\n",
       "    }\n",
       "</style>\n",
       "<table border=\"1\" class=\"dataframe\">\n",
       "  <thead>\n",
       "    <tr style=\"text-align: right;\">\n",
       "      <th></th>\n",
       "      <th>user_id</th>\n",
       "      <th>school_id</th>\n",
       "    </tr>\n",
       "  </thead>\n",
       "  <tbody>\n",
       "    <tr>\n",
       "      <th>2</th>\n",
       "      <td>41</td>\n",
       "      <td>11929.0</td>\n",
       "    </tr>\n",
       "    <tr>\n",
       "      <th>3</th>\n",
       "      <td>41</td>\n",
       "      <td>13087.0</td>\n",
       "    </tr>\n",
       "  </tbody>\n",
       "</table>\n",
       "</div>"
      ],
      "text/plain": [
       "   user_id  school_id\n",
       "2       41    11929.0\n",
       "3       41    13087.0"
      ]
     },
     "execution_count": 36,
     "metadata": {},
     "output_type": "execute_result"
    }
   ],
   "source": [
    "# Another user schools\n",
    "df_school_grouped.get_group(41)"
   ]
  },
  {
   "cell_type": "code",
   "execution_count": 37,
   "metadata": {},
   "outputs": [],
   "source": [
    "# Utility function to lookup values in `df_school_grouped`\n",
    "def get_common_schools(userA, userB):\n",
    "    \"\"\"\n",
    "    Lookup group of schools for userA and userB\n",
    "    \n",
    "    Returns\n",
    "        has_common_school: boolean: whether the users have common school\n",
    "        n_common_school: int: count of schools common between the users\n",
    "    \"\"\"\n",
    "    userA = int(userA)\n",
    "    userB = int(userB)\n",
    "    #\n",
    "    # try block if no school info is present\n",
    "    try:\n",
    "        # feteching schools \n",
    "        uA_schools = set(df_school_grouped.get_group(userA)['school_id'].values)\n",
    "        uB_schools = set(df_school_grouped.get_group(userB)['school_id'].values)\n",
    "        commons = uA_schools.intersection(uB_schools)\n",
    "        #\n",
    "        # if school info has only 999999 (i.e. the group of less freq schools)\n",
    "        if ( 999999 in commons) and (len(commons - {999999, }) <1):\n",
    "            return True, -2\n",
    "        # else find the common schools expect\n",
    "        n_common_school = len( commons-{999999, })\n",
    "        has_common_school = True if n_common_school > 0 else False\n",
    "    # when no school information is present\n",
    "    except Exception as e:\n",
    "        return False, -1\n",
    "    return has_common_school, n_common_school\n",
    "\n",
    "# Testing the function\n",
    "# get_common_schools(151, 17511)\n",
    "# get_common_schools(51, 5371)\n",
    "# get_common_schools(151, 41)"
   ]
  },
  {
   "cell_type": "code",
   "execution_count": 38,
   "metadata": {},
   "outputs": [],
   "source": [
    "# Generating Features\n",
    "temp = df_train.apply(lambda x: get_common_schools(x.userA_id, x.userB_id),\n",
    "                  axis=1)\n",
    "temp = np.array(temp.to_list())\n",
    "df_train['has_common_school'] = temp[:, 0] \n",
    "df_train['n_common_school'] = temp[:, 1]"
   ]
  },
  {
   "cell_type": "code",
   "execution_count": 39,
   "metadata": {},
   "outputs": [
    {
     "data": {
      "text/html": [
       "<div>\n",
       "<style scoped>\n",
       "    .dataframe tbody tr th:only-of-type {\n",
       "        vertical-align: middle;\n",
       "    }\n",
       "\n",
       "    .dataframe tbody tr th {\n",
       "        vertical-align: top;\n",
       "    }\n",
       "\n",
       "    .dataframe thead th {\n",
       "        text-align: right;\n",
       "    }\n",
       "</style>\n",
       "<table border=\"1\" class=\"dataframe\">\n",
       "  <thead>\n",
       "    <tr style=\"text-align: right;\">\n",
       "      <th></th>\n",
       "      <th>from-to</th>\n",
       "      <th>score</th>\n",
       "      <th>userA_id</th>\n",
       "      <th>userB_id</th>\n",
       "      <th>has_common_school</th>\n",
       "      <th>n_common_school</th>\n",
       "    </tr>\n",
       "  </thead>\n",
       "  <tbody>\n",
       "    <tr>\n",
       "      <th>88555</th>\n",
       "      <td>4769697-6308211</td>\n",
       "      <td>3</td>\n",
       "      <td>4769697</td>\n",
       "      <td>6308211</td>\n",
       "      <td>0</td>\n",
       "      <td>-1</td>\n",
       "    </tr>\n",
       "    <tr>\n",
       "      <th>327058</th>\n",
       "      <td>2227465-17278</td>\n",
       "      <td>3</td>\n",
       "      <td>2227465</td>\n",
       "      <td>17278</td>\n",
       "      <td>0</td>\n",
       "      <td>0</td>\n",
       "    </tr>\n",
       "    <tr>\n",
       "      <th>692370</th>\n",
       "      <td>31105-531</td>\n",
       "      <td>2</td>\n",
       "      <td>31105</td>\n",
       "      <td>531</td>\n",
       "      <td>0</td>\n",
       "      <td>-1</td>\n",
       "    </tr>\n",
       "    <tr>\n",
       "      <th>697281</th>\n",
       "      <td>24072-1012437</td>\n",
       "      <td>0</td>\n",
       "      <td>24072</td>\n",
       "      <td>1012437</td>\n",
       "      <td>1</td>\n",
       "      <td>-2</td>\n",
       "    </tr>\n",
       "    <tr>\n",
       "      <th>902348</th>\n",
       "      <td>829489-49256</td>\n",
       "      <td>2</td>\n",
       "      <td>829489</td>\n",
       "      <td>49256</td>\n",
       "      <td>0</td>\n",
       "      <td>0</td>\n",
       "    </tr>\n",
       "  </tbody>\n",
       "</table>\n",
       "</div>"
      ],
      "text/plain": [
       "                from-to score userA_id userB_id  has_common_school  \\\n",
       "88555   4769697-6308211     3  4769697  6308211                  0   \n",
       "327058    2227465-17278     3  2227465    17278                  0   \n",
       "692370        31105-531     2    31105      531                  0   \n",
       "697281    24072-1012437     0    24072  1012437                  1   \n",
       "902348     829489-49256     2   829489    49256                  0   \n",
       "\n",
       "        n_common_school  \n",
       "88555                -1  \n",
       "327058                0  \n",
       "692370               -1  \n",
       "697281               -2  \n",
       "902348                0  "
      ]
     },
     "execution_count": 39,
     "metadata": {},
     "output_type": "execute_result"
    }
   ],
   "source": [
    "# Preview of new features\n",
    "df_train.head()"
   ]
  },
  {
   "cell_type": "code",
   "execution_count": 40,
   "metadata": {},
   "outputs": [
    {
     "name": "stdout",
     "output_type": "stream",
     "text": [
      "DESCRIPTION                  Proportion      N\n",
      "-------------------------  ------------  -----\n",
      "No school info                 19.663     6079\n",
      "Part of only rare school       14.9955    4636\n",
      "Having Common Schools           1.32941    411\n",
      "Not having common schools      63.9281   19764\n"
     ]
    }
   ],
   "source": [
    "# Statistics on features\n",
    "df_relations = df_train\n",
    "\n",
    "value = [len(df_relations[df_relations['n_common_school'] == -1]), \n",
    "         len(df_relations[df_relations['n_common_school'] == -2]),\n",
    "         len(df_relations[df_relations['n_common_school'] == 1]),\n",
    "         len(df_relations[df_relations['n_common_school'] == 0]),\n",
    "        ]\n",
    "\n",
    "sample_size = df_relations.shape[0]\n",
    "data = [\n",
    "    ('DESCRIPTION', 'Proportion', 'N'),\n",
    "    ('No school info', value[0] *100/ sample_size, value[0]),\n",
    "    ('Part of only rare school', value[1] *100/sample_size, value[1]),\n",
    "    ('Having Common Schools', value[2] *100/ sample_size, value[2]),\n",
    "    ('Not having common schools', value[3] *100/ sample_size, value[3]),\n",
    "]\n",
    "print(tabulate(data, headers='firstrow'))"
   ]
  },
  {
   "cell_type": "markdown",
   "metadata": {},
   "source": [
    "---\n",
    "### Is there a relation between belonging to same school and having compatibility?"
   ]
  },
  {
   "cell_type": "code",
   "execution_count": 41,
   "metadata": {},
   "outputs": [
    {
     "data": {
      "text/html": [
       "<div>\n",
       "<style scoped>\n",
       "    .dataframe tbody tr th:only-of-type {\n",
       "        vertical-align: middle;\n",
       "    }\n",
       "\n",
       "    .dataframe tbody tr th {\n",
       "        vertical-align: top;\n",
       "    }\n",
       "\n",
       "    .dataframe thead th {\n",
       "        text-align: right;\n",
       "    }\n",
       "</style>\n",
       "<table border=\"1\" class=\"dataframe\">\n",
       "  <thead>\n",
       "    <tr style=\"text-align: right;\">\n",
       "      <th></th>\n",
       "      <th>from-to</th>\n",
       "      <th>score</th>\n",
       "      <th>userA_id</th>\n",
       "      <th>userB_id</th>\n",
       "      <th>has_common_school</th>\n",
       "      <th>n_common_school</th>\n",
       "    </tr>\n",
       "  </thead>\n",
       "  <tbody>\n",
       "    <tr>\n",
       "      <th>88555</th>\n",
       "      <td>4769697-6308211</td>\n",
       "      <td>3</td>\n",
       "      <td>4769697</td>\n",
       "      <td>6308211</td>\n",
       "      <td>0</td>\n",
       "      <td>-1</td>\n",
       "    </tr>\n",
       "    <tr>\n",
       "      <th>327058</th>\n",
       "      <td>2227465-17278</td>\n",
       "      <td>3</td>\n",
       "      <td>2227465</td>\n",
       "      <td>17278</td>\n",
       "      <td>0</td>\n",
       "      <td>0</td>\n",
       "    </tr>\n",
       "    <tr>\n",
       "      <th>692370</th>\n",
       "      <td>31105-531</td>\n",
       "      <td>2</td>\n",
       "      <td>31105</td>\n",
       "      <td>531</td>\n",
       "      <td>0</td>\n",
       "      <td>-1</td>\n",
       "    </tr>\n",
       "    <tr>\n",
       "      <th>697281</th>\n",
       "      <td>24072-1012437</td>\n",
       "      <td>0</td>\n",
       "      <td>24072</td>\n",
       "      <td>1012437</td>\n",
       "      <td>1</td>\n",
       "      <td>-2</td>\n",
       "    </tr>\n",
       "    <tr>\n",
       "      <th>902348</th>\n",
       "      <td>829489-49256</td>\n",
       "      <td>2</td>\n",
       "      <td>829489</td>\n",
       "      <td>49256</td>\n",
       "      <td>0</td>\n",
       "      <td>0</td>\n",
       "    </tr>\n",
       "  </tbody>\n",
       "</table>\n",
       "</div>"
      ],
      "text/plain": [
       "                from-to score userA_id userB_id  has_common_school  \\\n",
       "88555   4769697-6308211     3  4769697  6308211                  0   \n",
       "327058    2227465-17278     3  2227465    17278                  0   \n",
       "692370        31105-531     2    31105      531                  0   \n",
       "697281    24072-1012437     0    24072  1012437                  1   \n",
       "902348     829489-49256     2   829489    49256                  0   \n",
       "\n",
       "        n_common_school  \n",
       "88555                -1  \n",
       "327058                0  \n",
       "692370               -1  \n",
       "697281               -2  \n",
       "902348                0  "
      ]
     },
     "execution_count": 41,
     "metadata": {},
     "output_type": "execute_result"
    }
   ],
   "source": [
    "df_train.head()"
   ]
  },
  {
   "cell_type": "code",
   "execution_count": 42,
   "metadata": {},
   "outputs": [
    {
     "data": {
      "text/html": [
       "<div>\n",
       "<style scoped>\n",
       "    .dataframe tbody tr th:only-of-type {\n",
       "        vertical-align: middle;\n",
       "    }\n",
       "\n",
       "    .dataframe tbody tr th {\n",
       "        vertical-align: top;\n",
       "    }\n",
       "\n",
       "    .dataframe thead th {\n",
       "        text-align: right;\n",
       "    }\n",
       "</style>\n",
       "<table border=\"1\" class=\"dataframe\">\n",
       "  <thead>\n",
       "    <tr style=\"text-align: right;\">\n",
       "      <th>score</th>\n",
       "      <th>0.0</th>\n",
       "      <th>1.0</th>\n",
       "      <th>2.0</th>\n",
       "      <th>3.0</th>\n",
       "      <th>All</th>\n",
       "    </tr>\n",
       "    <tr>\n",
       "      <th>has_common_school</th>\n",
       "      <th></th>\n",
       "      <th></th>\n",
       "      <th></th>\n",
       "      <th></th>\n",
       "      <th></th>\n",
       "    </tr>\n",
       "  </thead>\n",
       "  <tbody>\n",
       "    <tr>\n",
       "      <th>0</th>\n",
       "      <td>6509</td>\n",
       "      <td>6550</td>\n",
       "      <td>6332</td>\n",
       "      <td>6452</td>\n",
       "      <td>25843</td>\n",
       "    </tr>\n",
       "    <tr>\n",
       "      <th>1</th>\n",
       "      <td>1220</td>\n",
       "      <td>1179</td>\n",
       "      <td>1397</td>\n",
       "      <td>1277</td>\n",
       "      <td>5073</td>\n",
       "    </tr>\n",
       "    <tr>\n",
       "      <th>All</th>\n",
       "      <td>7729</td>\n",
       "      <td>7729</td>\n",
       "      <td>7729</td>\n",
       "      <td>7729</td>\n",
       "      <td>30916</td>\n",
       "    </tr>\n",
       "  </tbody>\n",
       "</table>\n",
       "</div>"
      ],
      "text/plain": [
       "score               0.0   1.0   2.0   3.0    All\n",
       "has_common_school                               \n",
       "0                  6509  6550  6332  6452  25843\n",
       "1                  1220  1179  1397  1277   5073\n",
       "All                7729  7729  7729  7729  30916"
      ]
     },
     "execution_count": 42,
     "metadata": {},
     "output_type": "execute_result"
    }
   ],
   "source": [
    "# Creating contingency table\n",
    "school_v_score = pd.crosstab(df_train['has_common_school'], df_train['score'], margins=True)\n",
    "school_v_score"
   ]
  },
  {
   "cell_type": "code",
   "execution_count": 43,
   "metadata": {},
   "outputs": [
    {
     "name": "stdout",
     "output_type": "stream",
     "text": [
      "pValue : 0.0013201457228449928\n"
     ]
    }
   ],
   "source": [
    "# Stats value\n",
    "tstat, p , dof, exp = chi2_contingency( school_v_score)\n",
    "print(f'pValue : {p}')"
   ]
  },
  {
   "cell_type": "markdown",
   "metadata": {},
   "source": [
    "- $p-Value = 0.0013 < 0.05$(critical_value) therefore we safetly \n",
    "\n",
    "this implies that there is strong evidence against the $H_0$ hypothesis.\n",
    "Hence we can reject the \n",
    "$H_0$ : there is not relationship between belonging to common school and compatibility of users.\n",
    "\n",
    "CONCLUSION : `has_common_school` can be used as predictor variable as statiscally verified that there exists relationship between belonging to same school and compatibility."
   ]
  },
  {
   "cell_type": "code",
   "execution_count": 47,
   "metadata": {},
   "outputs": [
    {
     "data": {
      "text/plain": [
       "<matplotlib.axes._subplots.AxesSubplot at 0x104fb0ee0>"
      ]
     },
     "execution_count": 47,
     "metadata": {},
     "output_type": "execute_result"
    },
    {
     "data": {
      "image/png": "[encoded data removed]",
      "text/plain": [
       "<Figure size 720x576 with 1 Axes>"
      ]
     },
     "metadata": {
      "needs_background": "light"
     },
     "output_type": "display_data"
    }
   ],
   "source": [
    "# Distribution of n_common_schools vs scores\n",
    "sns.violinplot(data=df_train,\n",
    "           x='score',\n",
    "           y='n_common_school')"
   ]
  },
  {
   "cell_type": "markdown",
   "metadata": {},
   "source": [
    "- distribution of `n_common_school` is same for all compatibility levels, hence cannot be a good predictor"
   ]
  },
  {
   "cell_type": "code",
   "execution_count": null,
   "metadata": {},
   "outputs": [],
   "source": []
  }
 ],
 "metadata": {
  "kernelspec": {
   "display_name": "Python 3",
   "language": "python",
   "name": "python3"
  },
  "language_info": {
   "codemirror_mode": {
    "name": "ipython",
    "version": 3
   },
   "file_extension": ".py",
   "mimetype": "text/x-python",
   "name": "python",
   "nbconvert_exporter": "python",
   "pygments_lexer": "ipython3",
   "version": "3.8.3"
  }
 },
 "nbformat": 4,
 "nbformat_minor": 4
}
