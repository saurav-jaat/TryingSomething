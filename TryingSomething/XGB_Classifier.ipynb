{
  "nbformat": 4,
  "nbformat_minor": 0,
  "metadata": {
    "kernelspec": {
      "display_name": "Python 3",
      "language": "python",
      "name": "python3"
    },
    "language_info": {
      "codemirror_mode": {
        "name": "ipython",
        "version": 3
      },
      "file_extension": ".py",
      "mimetype": "text/x-python",
      "name": "python",
      "nbconvert_exporter": "python",
      "pygments_lexer": "ipython3",
      "version": "3.8.3"
    },
    "colab": {
      "name": "XGB_Classifier.ipynb",
      "provenance": [],
      "collapsed_sections": []
    }
  },
  "cells": [
    {
      "cell_type": "markdown",
      "metadata": {
        "id": "4_q8dPlHWsfs"
      },
      "source": [
        "# Modeling using XGB Classifier"
      ]
    },
    {
      "cell_type": "code",
      "metadata": {
        "id": "f5OlkLYsWsfw"
      },
      "source": [
        "# Loading Libraries\n",
        "import numpy as np \n",
        "import pandas as pd\n",
        "\n",
        "from xgboost import XGBClassifier\n",
        "from sklearn.model_selection import train_test_split\n",
        "from sklearn import preprocessing\n",
        "from sklearn.metrics import f1_score\n",
        "\n",
        "from tabulate import tabulate\n",
        "\n",
        "import matplotlib.pyplot as plt\n",
        "\n",
        "%matplotlib inline\n",
        "plt.rcParams['figure.figsize']=(10, 8)"
      ],
      "execution_count": 2,
      "outputs": []
    },
    {
      "cell_type": "code",
      "metadata": {
        "id": "3E1TULnrWsgE",
        "outputId": "bc0ba5f0-a409-4770-e691-a933d9e7c3d4",
        "colab": {
          "base_uri": "https://localhost:8080/",
          "height": 243
        }
      },
      "source": [
        "# Loading data\n",
        "PATH = 'train_short_features.csv'\n",
        "df=pd.read_csv(PATH)\n",
        "df.head()"
      ],
      "execution_count": 4,
      "outputs": [
        {
          "output_type": "execute_result",
          "data": {
            "text/html": [
              "<div>\n",
              "<style scoped>\n",
              "    .dataframe tbody tr th:only-of-type {\n",
              "        vertical-align: middle;\n",
              "    }\n",
              "\n",
              "    .dataframe tbody tr th {\n",
              "        vertical-align: top;\n",
              "    }\n",
              "\n",
              "    .dataframe thead th {\n",
              "        text-align: right;\n",
              "    }\n",
              "</style>\n",
              "<table border=\"1\" class=\"dataframe\">\n",
              "  <thead>\n",
              "    <tr style=\"text-align: right;\">\n",
              "      <th></th>\n",
              "      <th>from-to</th>\n",
              "      <th>score</th>\n",
              "      <th>userA_id</th>\n",
              "      <th>userB_id</th>\n",
              "      <th>has_common_skills</th>\n",
              "      <th>n_common_skills</th>\n",
              "      <th>has_common_schools</th>\n",
              "      <th>n_common_schools</th>\n",
              "      <th>has_common_industry</th>\n",
              "      <th>n_common_industry</th>\n",
              "      <th>has_common_company</th>\n",
              "      <th>n_common_company</th>\n",
              "      <th>userA_age</th>\n",
              "      <th>userB_age</th>\n",
              "      <th>userA_purpose_id_1</th>\n",
              "      <th>userA_purpose_id_2</th>\n",
              "      <th>userA_purpose_id_3</th>\n",
              "      <th>userA_purpose_id_4</th>\n",
              "      <th>userA_purpose_id_5</th>\n",
              "      <th>userA_purpose_id_6</th>\n",
              "      <th>userA_purpose_id_7</th>\n",
              "      <th>userA_purpose_id_8</th>\n",
              "      <th>userA_purpose_id_9</th>\n",
              "      <th>userA_purpose_id_10</th>\n",
              "      <th>userA_purpose_id_11</th>\n",
              "      <th>userA_purpose_id_12</th>\n",
              "      <th>userA_purpose_id_13</th>\n",
              "      <th>userA_purpose_id_14</th>\n",
              "      <th>userA_purpose_id_15</th>\n",
              "      <th>userB_purpose_id_1</th>\n",
              "      <th>userB_purpose_id_2</th>\n",
              "      <th>userB_purpose_id_3</th>\n",
              "      <th>userB_purpose_id_4</th>\n",
              "      <th>userB_purpose_id_5</th>\n",
              "      <th>userB_purpose_id_6</th>\n",
              "      <th>userB_purpose_id_7</th>\n",
              "      <th>userB_purpose_id_8</th>\n",
              "      <th>userB_purpose_id_9</th>\n",
              "      <th>userB_purpose_id_10</th>\n",
              "      <th>userB_purpose_id_11</th>\n",
              "      <th>userB_purpose_id_12</th>\n",
              "      <th>userB_purpose_id_13</th>\n",
              "      <th>userB_purpose_id_14</th>\n",
              "      <th>userB_purpose_id_15</th>\n",
              "      <th>userA_strength_id_1</th>\n",
              "      <th>userA_strength_id_2</th>\n",
              "      <th>userA_strength_id_3</th>\n",
              "      <th>userA_strength_id_4</th>\n",
              "      <th>userA_strength_id_5</th>\n",
              "      <th>userA_strength_id_6</th>\n",
              "      <th>userA_strength_id_7</th>\n",
              "      <th>userA_strength_id_8</th>\n",
              "      <th>userB_strength_id_1</th>\n",
              "      <th>userB_strength_id_2</th>\n",
              "      <th>userB_strength_id_3</th>\n",
              "      <th>userB_strength_id_4</th>\n",
              "      <th>userB_strength_id_5</th>\n",
              "      <th>userB_strength_id_6</th>\n",
              "      <th>userB_strength_id_7</th>\n",
              "      <th>userB_strength_id_8</th>\n",
              "    </tr>\n",
              "  </thead>\n",
              "  <tbody>\n",
              "    <tr>\n",
              "      <th>0</th>\n",
              "      <td>4769697-6308211</td>\n",
              "      <td>3.0</td>\n",
              "      <td>4769697.0</td>\n",
              "      <td>6308211.0</td>\n",
              "      <td>0.0</td>\n",
              "      <td>-1.0</td>\n",
              "      <td>0.0</td>\n",
              "      <td>-1.0</td>\n",
              "      <td>0.0</td>\n",
              "      <td>0.0</td>\n",
              "      <td>0.0</td>\n",
              "      <td>0.0</td>\n",
              "      <td>37.0</td>\n",
              "      <td>28.0</td>\n",
              "      <td>1.0</td>\n",
              "      <td>1.0</td>\n",
              "      <td>0.0</td>\n",
              "      <td>0.0</td>\n",
              "      <td>1.0</td>\n",
              "      <td>1.0</td>\n",
              "      <td>0.0</td>\n",
              "      <td>0.0</td>\n",
              "      <td>0.0</td>\n",
              "      <td>0.0</td>\n",
              "      <td>0.0</td>\n",
              "      <td>1.0</td>\n",
              "      <td>1.0</td>\n",
              "      <td>0.0</td>\n",
              "      <td>1.0</td>\n",
              "      <td>1.0</td>\n",
              "      <td>0.0</td>\n",
              "      <td>0.0</td>\n",
              "      <td>0.0</td>\n",
              "      <td>0.0</td>\n",
              "      <td>0.0</td>\n",
              "      <td>0.0</td>\n",
              "      <td>0.0</td>\n",
              "      <td>1.0</td>\n",
              "      <td>1.0</td>\n",
              "      <td>0.0</td>\n",
              "      <td>1.0</td>\n",
              "      <td>1.0</td>\n",
              "      <td>0.0</td>\n",
              "      <td>0.0</td>\n",
              "      <td>1.0</td>\n",
              "      <td>1.0</td>\n",
              "      <td>2.0</td>\n",
              "      <td>2.0</td>\n",
              "      <td>0.0</td>\n",
              "      <td>1.0</td>\n",
              "      <td>1.0</td>\n",
              "      <td>1.0</td>\n",
              "      <td>1.0</td>\n",
              "      <td>3.0</td>\n",
              "      <td>3.0</td>\n",
              "      <td>15.0</td>\n",
              "      <td>6.0</td>\n",
              "      <td>14.0</td>\n",
              "      <td>0.0</td>\n",
              "      <td>8.0</td>\n",
              "    </tr>\n",
              "    <tr>\n",
              "      <th>1</th>\n",
              "      <td>6275668-6308211</td>\n",
              "      <td>2.0</td>\n",
              "      <td>6275668.0</td>\n",
              "      <td>6308211.0</td>\n",
              "      <td>1.0</td>\n",
              "      <td>-2.0</td>\n",
              "      <td>0.0</td>\n",
              "      <td>-1.0</td>\n",
              "      <td>0.0</td>\n",
              "      <td>0.0</td>\n",
              "      <td>1.0</td>\n",
              "      <td>-2.0</td>\n",
              "      <td>28.0</td>\n",
              "      <td>28.0</td>\n",
              "      <td>1.0</td>\n",
              "      <td>1.0</td>\n",
              "      <td>0.0</td>\n",
              "      <td>1.0</td>\n",
              "      <td>1.0</td>\n",
              "      <td>1.0</td>\n",
              "      <td>0.0</td>\n",
              "      <td>0.0</td>\n",
              "      <td>0.0</td>\n",
              "      <td>0.0</td>\n",
              "      <td>0.0</td>\n",
              "      <td>1.0</td>\n",
              "      <td>1.0</td>\n",
              "      <td>0.0</td>\n",
              "      <td>0.0</td>\n",
              "      <td>1.0</td>\n",
              "      <td>0.0</td>\n",
              "      <td>0.0</td>\n",
              "      <td>0.0</td>\n",
              "      <td>0.0</td>\n",
              "      <td>0.0</td>\n",
              "      <td>0.0</td>\n",
              "      <td>0.0</td>\n",
              "      <td>1.0</td>\n",
              "      <td>1.0</td>\n",
              "      <td>0.0</td>\n",
              "      <td>1.0</td>\n",
              "      <td>1.0</td>\n",
              "      <td>0.0</td>\n",
              "      <td>0.0</td>\n",
              "      <td>0.0</td>\n",
              "      <td>0.0</td>\n",
              "      <td>0.0</td>\n",
              "      <td>3.0</td>\n",
              "      <td>0.0</td>\n",
              "      <td>0.0</td>\n",
              "      <td>0.0</td>\n",
              "      <td>3.0</td>\n",
              "      <td>1.0</td>\n",
              "      <td>3.0</td>\n",
              "      <td>3.0</td>\n",
              "      <td>15.0</td>\n",
              "      <td>6.0</td>\n",
              "      <td>14.0</td>\n",
              "      <td>0.0</td>\n",
              "      <td>8.0</td>\n",
              "    </tr>\n",
              "    <tr>\n",
              "      <th>2</th>\n",
              "      <td>6307254-6308211</td>\n",
              "      <td>3.0</td>\n",
              "      <td>6307254.0</td>\n",
              "      <td>6308211.0</td>\n",
              "      <td>0.0</td>\n",
              "      <td>-1.0</td>\n",
              "      <td>0.0</td>\n",
              "      <td>-1.0</td>\n",
              "      <td>0.0</td>\n",
              "      <td>0.0</td>\n",
              "      <td>1.0</td>\n",
              "      <td>-2.0</td>\n",
              "      <td>28.0</td>\n",
              "      <td>28.0</td>\n",
              "      <td>1.0</td>\n",
              "      <td>1.0</td>\n",
              "      <td>1.0</td>\n",
              "      <td>1.0</td>\n",
              "      <td>1.0</td>\n",
              "      <td>0.0</td>\n",
              "      <td>0.0</td>\n",
              "      <td>0.0</td>\n",
              "      <td>0.0</td>\n",
              "      <td>0.0</td>\n",
              "      <td>0.0</td>\n",
              "      <td>0.0</td>\n",
              "      <td>0.0</td>\n",
              "      <td>0.0</td>\n",
              "      <td>1.0</td>\n",
              "      <td>1.0</td>\n",
              "      <td>0.0</td>\n",
              "      <td>0.0</td>\n",
              "      <td>0.0</td>\n",
              "      <td>0.0</td>\n",
              "      <td>0.0</td>\n",
              "      <td>0.0</td>\n",
              "      <td>0.0</td>\n",
              "      <td>1.0</td>\n",
              "      <td>1.0</td>\n",
              "      <td>0.0</td>\n",
              "      <td>1.0</td>\n",
              "      <td>1.0</td>\n",
              "      <td>0.0</td>\n",
              "      <td>0.0</td>\n",
              "      <td>2.0</td>\n",
              "      <td>2.0</td>\n",
              "      <td>0.0</td>\n",
              "      <td>3.0</td>\n",
              "      <td>3.0</td>\n",
              "      <td>3.0</td>\n",
              "      <td>1.0</td>\n",
              "      <td>3.0</td>\n",
              "      <td>1.0</td>\n",
              "      <td>3.0</td>\n",
              "      <td>3.0</td>\n",
              "      <td>15.0</td>\n",
              "      <td>6.0</td>\n",
              "      <td>14.0</td>\n",
              "      <td>0.0</td>\n",
              "      <td>8.0</td>\n",
              "    </tr>\n",
              "    <tr>\n",
              "      <th>3</th>\n",
              "      <td>1208644-6308211</td>\n",
              "      <td>2.0</td>\n",
              "      <td>1208644.0</td>\n",
              "      <td>6308211.0</td>\n",
              "      <td>0.0</td>\n",
              "      <td>0.0</td>\n",
              "      <td>0.0</td>\n",
              "      <td>-1.0</td>\n",
              "      <td>1.0</td>\n",
              "      <td>1.0</td>\n",
              "      <td>1.0</td>\n",
              "      <td>-2.0</td>\n",
              "      <td>44.0</td>\n",
              "      <td>28.0</td>\n",
              "      <td>1.0</td>\n",
              "      <td>0.0</td>\n",
              "      <td>1.0</td>\n",
              "      <td>1.0</td>\n",
              "      <td>0.0</td>\n",
              "      <td>0.0</td>\n",
              "      <td>1.0</td>\n",
              "      <td>0.0</td>\n",
              "      <td>0.0</td>\n",
              "      <td>1.0</td>\n",
              "      <td>1.0</td>\n",
              "      <td>1.0</td>\n",
              "      <td>0.0</td>\n",
              "      <td>0.0</td>\n",
              "      <td>0.0</td>\n",
              "      <td>1.0</td>\n",
              "      <td>0.0</td>\n",
              "      <td>0.0</td>\n",
              "      <td>0.0</td>\n",
              "      <td>0.0</td>\n",
              "      <td>0.0</td>\n",
              "      <td>0.0</td>\n",
              "      <td>0.0</td>\n",
              "      <td>1.0</td>\n",
              "      <td>1.0</td>\n",
              "      <td>0.0</td>\n",
              "      <td>1.0</td>\n",
              "      <td>1.0</td>\n",
              "      <td>0.0</td>\n",
              "      <td>0.0</td>\n",
              "      <td>0.0</td>\n",
              "      <td>1.0</td>\n",
              "      <td>0.0</td>\n",
              "      <td>0.0</td>\n",
              "      <td>1.0</td>\n",
              "      <td>0.0</td>\n",
              "      <td>0.0</td>\n",
              "      <td>0.0</td>\n",
              "      <td>1.0</td>\n",
              "      <td>3.0</td>\n",
              "      <td>3.0</td>\n",
              "      <td>15.0</td>\n",
              "      <td>6.0</td>\n",
              "      <td>14.0</td>\n",
              "      <td>0.0</td>\n",
              "      <td>8.0</td>\n",
              "    </tr>\n",
              "    <tr>\n",
              "      <th>4</th>\n",
              "      <td>6275807-6308211</td>\n",
              "      <td>3.0</td>\n",
              "      <td>6275807.0</td>\n",
              "      <td>6308211.0</td>\n",
              "      <td>1.0</td>\n",
              "      <td>-2.0</td>\n",
              "      <td>0.0</td>\n",
              "      <td>-1.0</td>\n",
              "      <td>1.0</td>\n",
              "      <td>1.0</td>\n",
              "      <td>1.0</td>\n",
              "      <td>-2.0</td>\n",
              "      <td>45.0</td>\n",
              "      <td>28.0</td>\n",
              "      <td>1.0</td>\n",
              "      <td>0.0</td>\n",
              "      <td>1.0</td>\n",
              "      <td>1.0</td>\n",
              "      <td>1.0</td>\n",
              "      <td>1.0</td>\n",
              "      <td>1.0</td>\n",
              "      <td>0.0</td>\n",
              "      <td>0.0</td>\n",
              "      <td>1.0</td>\n",
              "      <td>0.0</td>\n",
              "      <td>0.0</td>\n",
              "      <td>0.0</td>\n",
              "      <td>0.0</td>\n",
              "      <td>0.0</td>\n",
              "      <td>1.0</td>\n",
              "      <td>0.0</td>\n",
              "      <td>0.0</td>\n",
              "      <td>0.0</td>\n",
              "      <td>0.0</td>\n",
              "      <td>0.0</td>\n",
              "      <td>0.0</td>\n",
              "      <td>0.0</td>\n",
              "      <td>1.0</td>\n",
              "      <td>1.0</td>\n",
              "      <td>0.0</td>\n",
              "      <td>1.0</td>\n",
              "      <td>1.0</td>\n",
              "      <td>0.0</td>\n",
              "      <td>0.0</td>\n",
              "      <td>3.0</td>\n",
              "      <td>2.0</td>\n",
              "      <td>0.0</td>\n",
              "      <td>1.0</td>\n",
              "      <td>1.0</td>\n",
              "      <td>3.0</td>\n",
              "      <td>0.0</td>\n",
              "      <td>1.0</td>\n",
              "      <td>1.0</td>\n",
              "      <td>3.0</td>\n",
              "      <td>3.0</td>\n",
              "      <td>15.0</td>\n",
              "      <td>6.0</td>\n",
              "      <td>14.0</td>\n",
              "      <td>0.0</td>\n",
              "      <td>8.0</td>\n",
              "    </tr>\n",
              "  </tbody>\n",
              "</table>\n",
              "</div>"
            ],
            "text/plain": [
              "           from-to  score  ...  userB_strength_id_7  userB_strength_id_8\n",
              "0  4769697-6308211    3.0  ...                  0.0                  8.0\n",
              "1  6275668-6308211    2.0  ...                  0.0                  8.0\n",
              "2  6307254-6308211    3.0  ...                  0.0                  8.0\n",
              "3  1208644-6308211    2.0  ...                  0.0                  8.0\n",
              "4  6275807-6308211    3.0  ...                  0.0                  8.0\n",
              "\n",
              "[5 rows x 60 columns]"
            ]
          },
          "metadata": {
            "tags": []
          },
          "execution_count": 4
        }
      ]
    },
    {
      "cell_type": "markdown",
      "metadata": {
        "id": "hIHSrdtUWsgb"
      },
      "source": [
        "## Preprocessing"
      ]
    },
    {
      "cell_type": "code",
      "metadata": {
        "id": "iHL7xBuDWsge"
      },
      "source": [
        "# Feature label\n",
        "X = df.drop(labels=['from-to','userA_id','score', 'userA_id', 'userB_id'],\n",
        "            axis=1)\n",
        "y = df['score']"
      ],
      "execution_count": 5,
      "outputs": []
    },
    {
      "cell_type": "code",
      "metadata": {
        "id": "ljOuEX6uWsgs"
      },
      "source": [
        "# Train-test Split\n",
        "# 70-15-15\n",
        "X_train, X_test, y_train, y_test = train_test_split(X, y,\n",
        "                                                    test_size=0.3,\n",
        "                                                    random_state=3,\n",
        "                                                    stratify=y)\n",
        "X_val,X_test,y_val,y_test =train_test_split(X_test,y_test,\n",
        "                                            test_size=0.5,\n",
        "                                            random_state=3,\n",
        "                                            stratify=y_test)"
      ],
      "execution_count": 6,
      "outputs": []
    },
    {
      "cell_type": "markdown",
      "metadata": {
        "id": "L7ZGPEFFWsg6"
      },
      "source": [
        "## Model Building"
      ]
    },
    {
      "cell_type": "code",
      "metadata": {
        "id": "hPUOKU0eWshz",
        "outputId": "34749cb5-a696-4c8e-d17d-0c14cf1b8d35",
        "colab": {
          "base_uri": "https://localhost:8080/",
          "height": 164
        }
      },
      "source": [
        "# model init\n",
        "clf=XGBClassifier(random_state=96)\n",
        "# model Train\n",
        "clf.fit(X_train, y_train)"
      ],
      "execution_count": 17,
      "outputs": [
        {
          "output_type": "execute_result",
          "data": {
            "text/plain": [
              "XGBClassifier(base_score=0.5, booster='gbtree', colsample_bylevel=1,\n",
              "              colsample_bynode=1, colsample_bytree=1, gamma=0,\n",
              "              learning_rate=0.1, max_delta_step=0, max_depth=3,\n",
              "              min_child_weight=1, missing=None, n_estimators=100, n_jobs=1,\n",
              "              nthread=None, objective='multi:softprob', random_state=96,\n",
              "              reg_alpha=0, reg_lambda=1, scale_pos_weight=1, seed=None,\n",
              "              silent=None, subsample=1, verbosity=1)"
            ]
          },
          "metadata": {
            "tags": []
          },
          "execution_count": 17
        }
      ]
    },
    {
      "cell_type": "code",
      "metadata": {
        "id": "_xYpjuyFWsiC",
        "outputId": "ff6a50a6-073b-4aaf-a685-92648fbe52c8",
        "colab": {
          "base_uri": "https://localhost:8080/",
          "height": 109
        }
      },
      "source": [
        "# f1 Score over train and test\n",
        "data = [\n",
        "    ('set', 'f1_score(micro)'),\n",
        "    ('Train', f1_score(y_train, clf.predict(X_train), average='micro')),\n",
        "    ('Validation', f1_score(y_val, clf.predict(X_val), average='micro'))\n",
        "]\n",
        "print(tabulate(data, headers='firstrow'))"
      ],
      "execution_count": 18,
      "outputs": [
        {
          "output_type": "stream",
          "text": [
            "set           f1_score(micro)\n",
            "----------  -----------------\n",
            "Train                0.498971\n",
            "Validation           0.442373\n"
          ],
          "name": "stdout"
        }
      ]
    },
    {
      "cell_type": "markdown",
      "metadata": {
        "id": "Nj2F2EAyYOn8"
      },
      "source": [
        "## Hyperparameter Optimization"
      ]
    },
    {
      "cell_type": "code",
      "metadata": {
        "id": "P7jefiqxWsiN",
        "outputId": "36c782d6-dc56-45d4-a12c-89195bcb43bc",
        "colab": {
          "base_uri": "https://localhost:8080/",
          "height": 514
        }
      },
      "source": [
        "# Tree Depth optimization\n",
        "depths = range(1, 10)\n",
        "#\n",
        "train_scores = []\n",
        "val_scores = []\n",
        "#\n",
        "for depth in depths:\n",
        "    dt_model = XGBClassifier(random_state=3, max_depth=depth)\n",
        "    dt_model.fit(X_train, y_train)\n",
        "    train_scores.append( f1_score(y_train, dt_model.predict(X_train), average='micro'))\n",
        "    val_scores.append( f1_score(y_val, dt_model.predict(X_val), average='micro'))\n",
        "#\n",
        "# Plot\n",
        "plt.plot(train_scores, 'g--', label='training scores')\n",
        "plt.plot(val_scores, 'r', label='validation scores')\n",
        "plt.ylabel('f1_score')\n",
        "plt.xlabel('Estimators Depth')\n",
        "plt.xticks(range(0, len(depths)-1), labels=depths)\n",
        "plt.legend()\n",
        "plt.show()"
      ],
      "execution_count": 22,
      "outputs": [
        {
          "output_type": "display_data",
          "data": {
            "image/png": "[encoded data removed]",
            "text/plain": [
              "<Figure size 720x576 with 1 Axes>"
            ]
          },
          "metadata": {
            "tags": [],
            "needs_background": "light"
          }
        }
      ]
    },
    {
      "cell_type": "markdown",
      "metadata": {
        "id": "bPeoJQaBZIBc"
      },
      "source": [
        "## Optimised model "
      ]
    },
    {
      "cell_type": "code",
      "metadata": {
        "id": "YZJ2ZThbWsiY",
        "outputId": "68bc4c67-d9b4-491e-f8ad-f0e25e902a5f",
        "colab": {
          "base_uri": "https://localhost:8080/",
          "height": 127
        }
      },
      "source": [
        "# Model init\n",
        "dt_model = XGBClassifier(max_depth=5, random_state=3, n_estimators=200)\n",
        "#Fit\n",
        "dt_model.fit(X_train, y_train)\n",
        "#\n",
        "# Scoring\n",
        "data = [\n",
        "    ('set', 'f1_score(micro)'),\n",
        "    ('Train', f1_score(y_train, dt_model.predict(X_train), average='micro')),\n",
        "    ('Validation', f1_score(y_val, dt_model.predict(X_val), average='micro')),\n",
        "    ('Test', f1_score(y_test, dt_model.predict(X_test), average='micro'))\n",
        "]\n",
        "print(tabulate(data, headers='firstrow'))"
      ],
      "execution_count": 25,
      "outputs": [
        {
          "output_type": "stream",
          "text": [
            "set           f1_score(micro)\n",
            "----------  -----------------\n",
            "Train                0.930483\n",
            "Validation           0.472316\n",
            "Test                 0.489266\n"
          ],
          "name": "stdout"
        }
      ]
    },
    {
      "cell_type": "markdown",
      "metadata": {
        "id": "wX4i6VPlb-vw"
      },
      "source": [
        "**Insights**\n",
        "- XGBClassifier score 46+% while Decision Tree Classifier Scores 39%"
      ]
    },
    {
      "cell_type": "code",
      "metadata": {
        "id": "wj1tXbwiajxH"
      },
      "source": [
        "# Saving Mode\n",
        "from pickle import dump\n",
        "dump(clf, open('model_XGB.pkl', 'wb'))"
      ],
      "execution_count": 27,
      "outputs": []
    }
  ]
}