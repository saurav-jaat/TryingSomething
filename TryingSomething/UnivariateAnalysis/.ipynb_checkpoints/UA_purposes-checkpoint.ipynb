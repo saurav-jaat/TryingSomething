{
 "cells": [
  {
   "cell_type": "code",
   "execution_count": 111,
   "metadata": {},
   "outputs": [],
   "source": [
    "import pandas as pd\n",
    "import numpy as np\n",
    "import matplotlib.pyplot as plt"
   ]
  },
  {
   "cell_type": "code",
   "execution_count": 115,
   "metadata": {},
   "outputs": [],
   "source": [
    "df=pd.read_csv(\"user_purposes.csv\")"
   ]
  },
  {
   "cell_type": "code",
   "execution_count": 4,
   "metadata": {},
   "outputs": [
    {
     "data": {
      "text/html": [
       "<div>\n",
       "<style scoped>\n",
       "    .dataframe tbody tr th:only-of-type {\n",
       "        vertical-align: middle;\n",
       "    }\n",
       "\n",
       "    .dataframe tbody tr th {\n",
       "        vertical-align: top;\n",
       "    }\n",
       "\n",
       "    .dataframe thead th {\n",
       "        text-align: right;\n",
       "    }\n",
       "</style>\n",
       "<table border=\"1\" class=\"dataframe\">\n",
       "  <thead>\n",
       "    <tr style=\"text-align: right;\">\n",
       "      <th></th>\n",
       "      <th>user_id</th>\n",
       "      <th>purpose_id_1</th>\n",
       "      <th>purpose_id_2</th>\n",
       "      <th>purpose_id_3</th>\n",
       "      <th>purpose_id_4</th>\n",
       "      <th>purpose_id_5</th>\n",
       "      <th>purpose_id_6</th>\n",
       "      <th>purpose_id_7</th>\n",
       "      <th>purpose_id_8</th>\n",
       "      <th>purpose_id_9</th>\n",
       "      <th>purpose_id_10</th>\n",
       "      <th>purpose_id_11</th>\n",
       "      <th>purpose_id_12</th>\n",
       "      <th>purpose_id_13</th>\n",
       "      <th>purpose_id_14</th>\n",
       "      <th>purpose_id_15</th>\n",
       "    </tr>\n",
       "  </thead>\n",
       "  <tbody>\n",
       "    <tr>\n",
       "      <th>0</th>\n",
       "      <td>1</td>\n",
       "      <td>1</td>\n",
       "      <td>1</td>\n",
       "      <td>1</td>\n",
       "      <td>1</td>\n",
       "      <td>1</td>\n",
       "      <td>1</td>\n",
       "      <td>1</td>\n",
       "      <td>0</td>\n",
       "      <td>0</td>\n",
       "      <td>1</td>\n",
       "      <td>0</td>\n",
       "      <td>1</td>\n",
       "      <td>0</td>\n",
       "      <td>0</td>\n",
       "      <td>0</td>\n",
       "    </tr>\n",
       "    <tr>\n",
       "      <th>1</th>\n",
       "      <td>21</td>\n",
       "      <td>1</td>\n",
       "      <td>1</td>\n",
       "      <td>0</td>\n",
       "      <td>0</td>\n",
       "      <td>1</td>\n",
       "      <td>0</td>\n",
       "      <td>1</td>\n",
       "      <td>0</td>\n",
       "      <td>1</td>\n",
       "      <td>0</td>\n",
       "      <td>0</td>\n",
       "      <td>0</td>\n",
       "      <td>0</td>\n",
       "      <td>0</td>\n",
       "      <td>1</td>\n",
       "    </tr>\n",
       "    <tr>\n",
       "      <th>2</th>\n",
       "      <td>41</td>\n",
       "      <td>0</td>\n",
       "      <td>0</td>\n",
       "      <td>1</td>\n",
       "      <td>1</td>\n",
       "      <td>1</td>\n",
       "      <td>0</td>\n",
       "      <td>1</td>\n",
       "      <td>0</td>\n",
       "      <td>1</td>\n",
       "      <td>0</td>\n",
       "      <td>0</td>\n",
       "      <td>0</td>\n",
       "      <td>0</td>\n",
       "      <td>0</td>\n",
       "      <td>0</td>\n",
       "    </tr>\n",
       "    <tr>\n",
       "      <th>3</th>\n",
       "      <td>51</td>\n",
       "      <td>1</td>\n",
       "      <td>1</td>\n",
       "      <td>1</td>\n",
       "      <td>1</td>\n",
       "      <td>1</td>\n",
       "      <td>1</td>\n",
       "      <td>1</td>\n",
       "      <td>0</td>\n",
       "      <td>0</td>\n",
       "      <td>0</td>\n",
       "      <td>0</td>\n",
       "      <td>0</td>\n",
       "      <td>0</td>\n",
       "      <td>0</td>\n",
       "      <td>1</td>\n",
       "    </tr>\n",
       "    <tr>\n",
       "      <th>4</th>\n",
       "      <td>151</td>\n",
       "      <td>1</td>\n",
       "      <td>1</td>\n",
       "      <td>0</td>\n",
       "      <td>0</td>\n",
       "      <td>1</td>\n",
       "      <td>1</td>\n",
       "      <td>0</td>\n",
       "      <td>0</td>\n",
       "      <td>0</td>\n",
       "      <td>0</td>\n",
       "      <td>0</td>\n",
       "      <td>0</td>\n",
       "      <td>0</td>\n",
       "      <td>0</td>\n",
       "      <td>1</td>\n",
       "    </tr>\n",
       "  </tbody>\n",
       "</table>\n",
       "</div>"
      ],
      "text/plain": [
       "   user_id  purpose_id_1  purpose_id_2  purpose_id_3  purpose_id_4  \\\n",
       "0        1             1             1             1             1   \n",
       "1       21             1             1             0             0   \n",
       "2       41             0             0             1             1   \n",
       "3       51             1             1             1             1   \n",
       "4      151             1             1             0             0   \n",
       "\n",
       "   purpose_id_5  purpose_id_6  purpose_id_7  purpose_id_8  purpose_id_9  \\\n",
       "0             1             1             1             0             0   \n",
       "1             1             0             1             0             1   \n",
       "2             1             0             1             0             1   \n",
       "3             1             1             1             0             0   \n",
       "4             1             1             0             0             0   \n",
       "\n",
       "   purpose_id_10  purpose_id_11  purpose_id_12  purpose_id_13  purpose_id_14  \\\n",
       "0              1              0              1              0              0   \n",
       "1              0              0              0              0              0   \n",
       "2              0              0              0              0              0   \n",
       "3              0              0              0              0              0   \n",
       "4              0              0              0              0              0   \n",
       "\n",
       "   purpose_id_15  \n",
       "0              0  \n",
       "1              1  \n",
       "2              0  \n",
       "3              1  \n",
       "4              1  "
      ]
     },
     "execution_count": 4,
     "metadata": {},
     "output_type": "execute_result"
    }
   ],
   "source": [
    "df.head()"
   ]
  },
  {
   "cell_type": "code",
   "execution_count": 46,
   "metadata": {},
   "outputs": [],
   "source": [
    "# df=df[:1000]"
   ]
  },
  {
   "cell_type": "code",
   "execution_count": 96,
   "metadata": {},
   "outputs": [
    {
     "data": {
      "text/html": [
       "<div>\n",
       "<style scoped>\n",
       "    .dataframe tbody tr th:only-of-type {\n",
       "        vertical-align: middle;\n",
       "    }\n",
       "\n",
       "    .dataframe tbody tr th {\n",
       "        vertical-align: top;\n",
       "    }\n",
       "\n",
       "    .dataframe thead th {\n",
       "        text-align: right;\n",
       "    }\n",
       "</style>\n",
       "<table border=\"1\" class=\"dataframe\">\n",
       "  <thead>\n",
       "    <tr style=\"text-align: right;\">\n",
       "      <th></th>\n",
       "      <th>user_id</th>\n",
       "      <th>purpose_id_1</th>\n",
       "      <th>purpose_id_2</th>\n",
       "      <th>purpose_id_3</th>\n",
       "      <th>purpose_id_4</th>\n",
       "      <th>purpose_id_5</th>\n",
       "      <th>purpose_id_6</th>\n",
       "      <th>purpose_id_7</th>\n",
       "      <th>purpose_id_8</th>\n",
       "      <th>purpose_id_9</th>\n",
       "      <th>purpose_id_10</th>\n",
       "      <th>purpose_id_11</th>\n",
       "      <th>purpose_id_12</th>\n",
       "      <th>purpose_id_13</th>\n",
       "      <th>purpose_id_14</th>\n",
       "      <th>purpose_id_15</th>\n",
       "    </tr>\n",
       "  </thead>\n",
       "  <tbody>\n",
       "    <tr>\n",
       "      <th>count</th>\n",
       "      <td>3.437900e+04</td>\n",
       "      <td>34379.000000</td>\n",
       "      <td>34379.000000</td>\n",
       "      <td>34379.000000</td>\n",
       "      <td>34379.000000</td>\n",
       "      <td>34379.000000</td>\n",
       "      <td>34379.000000</td>\n",
       "      <td>34379.000000</td>\n",
       "      <td>34379.000000</td>\n",
       "      <td>34379.000000</td>\n",
       "      <td>34379.000000</td>\n",
       "      <td>34379.000000</td>\n",
       "      <td>34379.000000</td>\n",
       "      <td>34379.000000</td>\n",
       "      <td>34379.000000</td>\n",
       "      <td>34379.00000</td>\n",
       "    </tr>\n",
       "    <tr>\n",
       "      <th>mean</th>\n",
       "      <td>4.848194e+06</td>\n",
       "      <td>0.839146</td>\n",
       "      <td>0.679339</td>\n",
       "      <td>0.259984</td>\n",
       "      <td>0.605253</td>\n",
       "      <td>0.787079</td>\n",
       "      <td>0.295849</td>\n",
       "      <td>0.253091</td>\n",
       "      <td>0.283429</td>\n",
       "      <td>0.337241</td>\n",
       "      <td>0.145728</td>\n",
       "      <td>0.069316</td>\n",
       "      <td>0.331918</td>\n",
       "      <td>0.220687</td>\n",
       "      <td>0.075162</td>\n",
       "      <td>0.40804</td>\n",
       "    </tr>\n",
       "    <tr>\n",
       "      <th>std</th>\n",
       "      <td>2.417254e+06</td>\n",
       "      <td>0.383592</td>\n",
       "      <td>0.477337</td>\n",
       "      <td>0.441870</td>\n",
       "      <td>0.497591</td>\n",
       "      <td>0.423694</td>\n",
       "      <td>0.459922</td>\n",
       "      <td>0.439447</td>\n",
       "      <td>0.454717</td>\n",
       "      <td>0.477550</td>\n",
       "      <td>0.355058</td>\n",
       "      <td>0.255478</td>\n",
       "      <td>0.474784</td>\n",
       "      <td>0.417373</td>\n",
       "      <td>0.265197</td>\n",
       "      <td>0.49701</td>\n",
       "    </tr>\n",
       "    <tr>\n",
       "      <th>min</th>\n",
       "      <td>1.000000e+00</td>\n",
       "      <td>0.000000</td>\n",
       "      <td>0.000000</td>\n",
       "      <td>0.000000</td>\n",
       "      <td>0.000000</td>\n",
       "      <td>0.000000</td>\n",
       "      <td>0.000000</td>\n",
       "      <td>0.000000</td>\n",
       "      <td>0.000000</td>\n",
       "      <td>0.000000</td>\n",
       "      <td>0.000000</td>\n",
       "      <td>0.000000</td>\n",
       "      <td>0.000000</td>\n",
       "      <td>0.000000</td>\n",
       "      <td>0.000000</td>\n",
       "      <td>0.00000</td>\n",
       "    </tr>\n",
       "    <tr>\n",
       "      <th>25%</th>\n",
       "      <td>3.152956e+06</td>\n",
       "      <td>1.000000</td>\n",
       "      <td>0.000000</td>\n",
       "      <td>0.000000</td>\n",
       "      <td>0.000000</td>\n",
       "      <td>1.000000</td>\n",
       "      <td>0.000000</td>\n",
       "      <td>0.000000</td>\n",
       "      <td>0.000000</td>\n",
       "      <td>0.000000</td>\n",
       "      <td>0.000000</td>\n",
       "      <td>0.000000</td>\n",
       "      <td>0.000000</td>\n",
       "      <td>0.000000</td>\n",
       "      <td>0.000000</td>\n",
       "      <td>0.00000</td>\n",
       "    </tr>\n",
       "    <tr>\n",
       "      <th>50%</th>\n",
       "      <td>6.294013e+06</td>\n",
       "      <td>1.000000</td>\n",
       "      <td>1.000000</td>\n",
       "      <td>0.000000</td>\n",
       "      <td>1.000000</td>\n",
       "      <td>1.000000</td>\n",
       "      <td>0.000000</td>\n",
       "      <td>0.000000</td>\n",
       "      <td>0.000000</td>\n",
       "      <td>0.000000</td>\n",
       "      <td>0.000000</td>\n",
       "      <td>0.000000</td>\n",
       "      <td>0.000000</td>\n",
       "      <td>0.000000</td>\n",
       "      <td>0.000000</td>\n",
       "      <td>0.00000</td>\n",
       "    </tr>\n",
       "    <tr>\n",
       "      <th>75%</th>\n",
       "      <td>6.325155e+06</td>\n",
       "      <td>1.000000</td>\n",
       "      <td>1.000000</td>\n",
       "      <td>1.000000</td>\n",
       "      <td>1.000000</td>\n",
       "      <td>1.000000</td>\n",
       "      <td>1.000000</td>\n",
       "      <td>1.000000</td>\n",
       "      <td>1.000000</td>\n",
       "      <td>1.000000</td>\n",
       "      <td>0.000000</td>\n",
       "      <td>0.000000</td>\n",
       "      <td>1.000000</td>\n",
       "      <td>0.000000</td>\n",
       "      <td>0.000000</td>\n",
       "      <td>1.00000</td>\n",
       "    </tr>\n",
       "    <tr>\n",
       "      <th>max</th>\n",
       "      <td>6.345243e+06</td>\n",
       "      <td>6.000000</td>\n",
       "      <td>6.000000</td>\n",
       "      <td>4.000000</td>\n",
       "      <td>6.000000</td>\n",
       "      <td>6.000000</td>\n",
       "      <td>6.000000</td>\n",
       "      <td>6.000000</td>\n",
       "      <td>4.000000</td>\n",
       "      <td>4.000000</td>\n",
       "      <td>4.000000</td>\n",
       "      <td>4.000000</td>\n",
       "      <td>3.000000</td>\n",
       "      <td>3.000000</td>\n",
       "      <td>2.000000</td>\n",
       "      <td>4.00000</td>\n",
       "    </tr>\n",
       "  </tbody>\n",
       "</table>\n",
       "</div>"
      ],
      "text/plain": [
       "            user_id  purpose_id_1  purpose_id_2  purpose_id_3  purpose_id_4  \\\n",
       "count  3.437900e+04  34379.000000  34379.000000  34379.000000  34379.000000   \n",
       "mean   4.848194e+06      0.839146      0.679339      0.259984      0.605253   \n",
       "std    2.417254e+06      0.383592      0.477337      0.441870      0.497591   \n",
       "min    1.000000e+00      0.000000      0.000000      0.000000      0.000000   \n",
       "25%    3.152956e+06      1.000000      0.000000      0.000000      0.000000   \n",
       "50%    6.294013e+06      1.000000      1.000000      0.000000      1.000000   \n",
       "75%    6.325155e+06      1.000000      1.000000      1.000000      1.000000   \n",
       "max    6.345243e+06      6.000000      6.000000      4.000000      6.000000   \n",
       "\n",
       "       purpose_id_5  purpose_id_6  purpose_id_7  purpose_id_8  purpose_id_9  \\\n",
       "count  34379.000000  34379.000000  34379.000000  34379.000000  34379.000000   \n",
       "mean       0.787079      0.295849      0.253091      0.283429      0.337241   \n",
       "std        0.423694      0.459922      0.439447      0.454717      0.477550   \n",
       "min        0.000000      0.000000      0.000000      0.000000      0.000000   \n",
       "25%        1.000000      0.000000      0.000000      0.000000      0.000000   \n",
       "50%        1.000000      0.000000      0.000000      0.000000      0.000000   \n",
       "75%        1.000000      1.000000      1.000000      1.000000      1.000000   \n",
       "max        6.000000      6.000000      6.000000      4.000000      4.000000   \n",
       "\n",
       "       purpose_id_10  purpose_id_11  purpose_id_12  purpose_id_13  \\\n",
       "count   34379.000000   34379.000000   34379.000000   34379.000000   \n",
       "mean        0.145728       0.069316       0.331918       0.220687   \n",
       "std         0.355058       0.255478       0.474784       0.417373   \n",
       "min         0.000000       0.000000       0.000000       0.000000   \n",
       "25%         0.000000       0.000000       0.000000       0.000000   \n",
       "50%         0.000000       0.000000       0.000000       0.000000   \n",
       "75%         0.000000       0.000000       1.000000       0.000000   \n",
       "max         4.000000       4.000000       3.000000       3.000000   \n",
       "\n",
       "       purpose_id_14  purpose_id_15  \n",
       "count   34379.000000    34379.00000  \n",
       "mean        0.075162        0.40804  \n",
       "std         0.265197        0.49701  \n",
       "min         0.000000        0.00000  \n",
       "25%         0.000000        0.00000  \n",
       "50%         0.000000        0.00000  \n",
       "75%         0.000000        1.00000  \n",
       "max         2.000000        4.00000  "
      ]
     },
     "execution_count": 96,
     "metadata": {},
     "output_type": "execute_result"
    }
   ],
   "source": [
    "df.describe()"
   ]
  },
  {
   "cell_type": "code",
   "execution_count": 47,
   "metadata": {},
   "outputs": [
    {
     "data": {
      "text/plain": [
       "user_id          0\n",
       "purpose_id_1     0\n",
       "purpose_id_2     0\n",
       "purpose_id_3     0\n",
       "purpose_id_4     0\n",
       "purpose_id_5     0\n",
       "purpose_id_6     0\n",
       "purpose_id_7     0\n",
       "purpose_id_8     0\n",
       "purpose_id_9     0\n",
       "purpose_id_10    0\n",
       "purpose_id_11    0\n",
       "purpose_id_12    0\n",
       "purpose_id_13    0\n",
       "purpose_id_14    0\n",
       "purpose_id_15    0\n",
       "dtype: int64"
      ]
     },
     "execution_count": 47,
     "metadata": {},
     "output_type": "execute_result"
    }
   ],
   "source": [
    "df.isnull().sum()"
   ]
  },
  {
   "cell_type": "code",
   "execution_count": 50,
   "metadata": {},
   "outputs": [
    {
     "data": {
      "text/html": [
       "<div>\n",
       "<style scoped>\n",
       "    .dataframe tbody tr th:only-of-type {\n",
       "        vertical-align: middle;\n",
       "    }\n",
       "\n",
       "    .dataframe tbody tr th {\n",
       "        vertical-align: top;\n",
       "    }\n",
       "\n",
       "    .dataframe thead th {\n",
       "        text-align: right;\n",
       "    }\n",
       "</style>\n",
       "<table border=\"1\" class=\"dataframe\">\n",
       "  <thead>\n",
       "    <tr style=\"text-align: right;\">\n",
       "      <th></th>\n",
       "      <th>user_id</th>\n",
       "      <th>purpose_id_1</th>\n",
       "    </tr>\n",
       "  </thead>\n",
       "  <tbody>\n",
       "    <tr>\n",
       "      <th>0</th>\n",
       "      <td>1</td>\n",
       "      <td>1</td>\n",
       "    </tr>\n",
       "    <tr>\n",
       "      <th>1</th>\n",
       "      <td>21</td>\n",
       "      <td>1</td>\n",
       "    </tr>\n",
       "    <tr>\n",
       "      <th>2</th>\n",
       "      <td>41</td>\n",
       "      <td>0</td>\n",
       "    </tr>\n",
       "    <tr>\n",
       "      <th>3</th>\n",
       "      <td>51</td>\n",
       "      <td>1</td>\n",
       "    </tr>\n",
       "    <tr>\n",
       "      <th>4</th>\n",
       "      <td>151</td>\n",
       "      <td>1</td>\n",
       "    </tr>\n",
       "    <tr>\n",
       "      <th>...</th>\n",
       "      <td>...</td>\n",
       "      <td>...</td>\n",
       "    </tr>\n",
       "    <tr>\n",
       "      <th>34374</th>\n",
       "      <td>6345235</td>\n",
       "      <td>1</td>\n",
       "    </tr>\n",
       "    <tr>\n",
       "      <th>34375</th>\n",
       "      <td>6345237</td>\n",
       "      <td>0</td>\n",
       "    </tr>\n",
       "    <tr>\n",
       "      <th>34376</th>\n",
       "      <td>6345239</td>\n",
       "      <td>1</td>\n",
       "    </tr>\n",
       "    <tr>\n",
       "      <th>34377</th>\n",
       "      <td>6345240</td>\n",
       "      <td>1</td>\n",
       "    </tr>\n",
       "    <tr>\n",
       "      <th>34378</th>\n",
       "      <td>6345243</td>\n",
       "      <td>1</td>\n",
       "    </tr>\n",
       "  </tbody>\n",
       "</table>\n",
       "<p>34379 rows × 2 columns</p>\n",
       "</div>"
      ],
      "text/plain": [
       "       user_id  purpose_id_1\n",
       "0            1             1\n",
       "1           21             1\n",
       "2           41             0\n",
       "3           51             1\n",
       "4          151             1\n",
       "...        ...           ...\n",
       "34374  6345235             1\n",
       "34375  6345237             0\n",
       "34376  6345239             1\n",
       "34377  6345240             1\n",
       "34378  6345243             1\n",
       "\n",
       "[34379 rows x 2 columns]"
      ]
     },
     "execution_count": 50,
     "metadata": {},
     "output_type": "execute_result"
    }
   ],
   "source": [
    "df.iloc[:,0:2]"
   ]
  },
  {
   "cell_type": "code",
   "execution_count": 25,
   "metadata": {},
   "outputs": [
    {
     "name": "stdout",
     "output_type": "stream",
     "text": [
      "[1 1 0 ... 1 1 1]\n"
     ]
    }
   ],
   "source": [
    "y=df.get(\"purpose_id_1\")\n",
    "y=list(y)\n",
    "y1=np.array(y)\n",
    "print(y1) \n",
    "#rest are below "
   ]
  },
  {
   "cell_type": "code",
   "execution_count": 26,
   "metadata": {},
   "outputs": [
    {
     "name": "stdout",
     "output_type": "stream",
     "text": [
      "[      1      21      41 ... 6345239 6345240 6345243]\n"
     ]
    }
   ],
   "source": [
    "a=df.get(\"user_id\")\n",
    "a=list(a)\n",
    "x=np.array(a)\n",
    "print(x)  "
   ]
  },
  {
   "cell_type": "code",
   "execution_count": 121,
   "metadata": {},
   "outputs": [
    {
     "data": {
      "text/plain": [
       "Text(0, 0.5, 'purpose_id_1')"
      ]
     },
     "execution_count": 121,
     "metadata": {},
     "output_type": "execute_result"
    },
    {
     "data": {
      "image/png": "[encoded data removed]",
      "text/plain": [
       "<Figure size 432x288 with 1 Axes>"
      ]
     },
     "metadata": {
      "needs_background": "light"
     },
     "output_type": "display_data"
    }
   ],
   "source": [
    "plt.scatter(x,y1)\n",
    "plt.xlabel(\"user_ids====>\")\n",
    "plt.ylabel(\"purpose_id_1\")\n"
   ]
  },
  {
   "cell_type": "code",
   "execution_count": 88,
   "metadata": {},
   "outputs": [
    {
     "data": {
      "text/plain": [
       "Text(0, 0.5, 'purpose_id_2')"
      ]
     },
     "execution_count": 88,
     "metadata": {},
     "output_type": "execute_result"
    },
    {
     "data": {
      "image/png": "[encoded data removed]",
      "text/plain": [
       "<Figure size 432x288 with 1 Axes>"
      ]
     },
     "metadata": {
      "needs_background": "light"
     },
     "output_type": "display_data"
    }
   ],
   "source": [
    "plt.scatter(x,y2)\n",
    "plt.xlabel(\"user_ids====>\")\n",
    "plt.ylabel(\"purpose_id_2\")"
   ]
  },
  {
   "cell_type": "code",
   "execution_count": 89,
   "metadata": {},
   "outputs": [
    {
     "data": {
      "text/plain": [
       "Text(0, 0.5, 'purpose_id_3')"
      ]
     },
     "execution_count": 89,
     "metadata": {},
     "output_type": "execute_result"
    },
    {
     "data": {
      "image/png": "[encoded data removed]",
      "text/plain": [
       "<Figure size 432x288 with 1 Axes>"
      ]
     },
     "metadata": {
      "needs_background": "light"
     },
     "output_type": "display_data"
    }
   ],
   "source": [
    "plt.scatter(x,y3)\n",
    "plt.xlabel(\"user_ids====>\")\n",
    "plt.ylabel(\"purpose_id_3\")"
   ]
  },
  {
   "cell_type": "code",
   "execution_count": 90,
   "metadata": {},
   "outputs": [
    {
     "data": {
      "text/plain": [
       "Text(0, 0.5, 'purpose_id_4')"
      ]
     },
     "execution_count": 90,
     "metadata": {},
     "output_type": "execute_result"
    },
    {
     "data": {
      "image/png": "[encoded data removed]",
      "text/plain": [
       "<Figure size 432x288 with 1 Axes>"
      ]
     },
     "metadata": {
      "needs_background": "light"
     },
     "output_type": "display_data"
    }
   ],
   "source": [
    "plt.scatter(x,y4)\n",
    "plt.xlabel(\"user_ids====>\")\n",
    "plt.ylabel(\"purpose_id_4\")"
   ]
  },
  {
   "cell_type": "code",
   "execution_count": 91,
   "metadata": {},
   "outputs": [
    {
     "data": {
      "text/plain": [
       "Text(0, 0.5, 'purpose_id_5')"
      ]
     },
     "execution_count": 91,
     "metadata": {},
     "output_type": "execute_result"
    },
    {
     "data": {
      "image/png": "[encoded data removed]",
      "text/plain": [
       "<Figure size 432x288 with 1 Axes>"
      ]
     },
     "metadata": {
      "needs_background": "light"
     },
     "output_type": "display_data"
    }
   ],
   "source": [
    "plt.scatter(x,y5)\n",
    "plt.xlabel(\"user_ids====>\")\n",
    "plt.ylabel(\"purpose_id_5\")"
   ]
  },
  {
   "cell_type": "code",
   "execution_count": 92,
   "metadata": {},
   "outputs": [
    {
     "data": {
      "text/plain": [
       "Text(0, 0.5, 'purpose_id_7')"
      ]
     },
     "execution_count": 92,
     "metadata": {},
     "output_type": "execute_result"
    },
    {
     "data": {
      "image/png": "[encoded data removed]",
      "text/plain": [
       "<Figure size 432x288 with 1 Axes>"
      ]
     },
     "metadata": {
      "needs_background": "light"
     },
     "output_type": "display_data"
    }
   ],
   "source": [
    "plt.scatter(x,y6)\n",
    "plt.xlabel(\"user_ids====>\")\n",
    "plt.ylabel(\"purpose_id_7\")"
   ]
  },
  {
   "cell_type": "code",
   "execution_count": 93,
   "metadata": {},
   "outputs": [
    {
     "data": {
      "text/plain": [
       "Text(0, 0.5, 'purpose_id_7')"
      ]
     },
     "execution_count": 93,
     "metadata": {},
     "output_type": "execute_result"
    },
    {
     "data": {
      "image/png": "[encoded data removed]",
      "text/plain": [
       "<Figure size 432x288 with 1 Axes>"
      ]
     },
     "metadata": {
      "needs_background": "light"
     },
     "output_type": "display_data"
    }
   ],
   "source": [
    "plt.scatter(x,y7)\n",
    "plt.xlabel(\"user_ids====>\")\n",
    "plt.ylabel(\"purpose_id_7\")"
   ]
  },
  {
   "cell_type": "markdown",
   "metadata": {},
   "source": [
    "So on......"
   ]
  },
  {
   "cell_type": "code",
   "execution_count": 95,
   "metadata": {},
   "outputs": [
    {
     "data": {
      "text/plain": [
       "Text(0, 0.5, 'purpose_id_15')"
      ]
     },
     "execution_count": 95,
     "metadata": {},
     "output_type": "execute_result"
    },
    {
     "data": {
      "image/png": "[encoded data removed]",
      "text/plain": [
       "<Figure size 432x288 with 1 Axes>"
      ]
     },
     "metadata": {
      "needs_background": "light"
     },
     "output_type": "display_data"
    }
   ],
   "source": [
    "plt.scatter(x,y15)\n",
    "plt.xlabel(\"user_ids====>\")\n",
    "plt.ylabel(\"purpose_id_15\")"
   ]
  },
  {
   "cell_type": "markdown",
   "metadata": {},
   "source": [
    "Then..."
   ]
  },
  {
   "cell_type": "code",
   "execution_count": 55,
   "metadata": {},
   "outputs": [
    {
     "data": {
      "text/plain": [
       "<matplotlib.axes._subplots.AxesSubplot at 0x1bca2ff5ac0>"
      ]
     },
     "execution_count": 55,
     "metadata": {},
     "output_type": "execute_result"
    },
    {
     "data": {
      "image/png": "[encoded data removed]",
      "text/plain": [
       "<Figure size 576x396 with 1 Axes>"
      ]
     },
     "metadata": {},
     "output_type": "display_data"
    }
   ],
   "source": [
    "df.plot.kde()"
   ]
  },
  {
   "cell_type": "code",
   "execution_count": 117,
   "metadata": {},
   "outputs": [
    {
     "data": {
      "text/html": [
       "<div>\n",
       "<style scoped>\n",
       "    .dataframe tbody tr th:only-of-type {\n",
       "        vertical-align: middle;\n",
       "    }\n",
       "\n",
       "    .dataframe tbody tr th {\n",
       "        vertical-align: top;\n",
       "    }\n",
       "\n",
       "    .dataframe thead th {\n",
       "        text-align: right;\n",
       "    }\n",
       "</style>\n",
       "<table border=\"1\" class=\"dataframe\">\n",
       "  <thead>\n",
       "    <tr style=\"text-align: right;\">\n",
       "      <th></th>\n",
       "      <th>user_id</th>\n",
       "      <th>purpose_id_1</th>\n",
       "      <th>purpose_id_2</th>\n",
       "      <th>purpose_id_3</th>\n",
       "      <th>purpose_id_4</th>\n",
       "      <th>purpose_id_5</th>\n",
       "      <th>purpose_id_6</th>\n",
       "      <th>purpose_id_7</th>\n",
       "    </tr>\n",
       "  </thead>\n",
       "  <tbody>\n",
       "    <tr>\n",
       "      <th>0</th>\n",
       "      <td>1</td>\n",
       "      <td>1</td>\n",
       "      <td>1</td>\n",
       "      <td>1</td>\n",
       "      <td>1</td>\n",
       "      <td>1</td>\n",
       "      <td>1</td>\n",
       "      <td>1</td>\n",
       "    </tr>\n",
       "    <tr>\n",
       "      <th>1</th>\n",
       "      <td>21</td>\n",
       "      <td>1</td>\n",
       "      <td>1</td>\n",
       "      <td>0</td>\n",
       "      <td>0</td>\n",
       "      <td>1</td>\n",
       "      <td>0</td>\n",
       "      <td>1</td>\n",
       "    </tr>\n",
       "    <tr>\n",
       "      <th>2</th>\n",
       "      <td>41</td>\n",
       "      <td>0</td>\n",
       "      <td>0</td>\n",
       "      <td>1</td>\n",
       "      <td>1</td>\n",
       "      <td>1</td>\n",
       "      <td>0</td>\n",
       "      <td>1</td>\n",
       "    </tr>\n",
       "    <tr>\n",
       "      <th>3</th>\n",
       "      <td>51</td>\n",
       "      <td>1</td>\n",
       "      <td>1</td>\n",
       "      <td>1</td>\n",
       "      <td>1</td>\n",
       "      <td>1</td>\n",
       "      <td>1</td>\n",
       "      <td>1</td>\n",
       "    </tr>\n",
       "    <tr>\n",
       "      <th>4</th>\n",
       "      <td>151</td>\n",
       "      <td>1</td>\n",
       "      <td>1</td>\n",
       "      <td>0</td>\n",
       "      <td>0</td>\n",
       "      <td>1</td>\n",
       "      <td>1</td>\n",
       "      <td>0</td>\n",
       "    </tr>\n",
       "    <tr>\n",
       "      <th>...</th>\n",
       "      <td>...</td>\n",
       "      <td>...</td>\n",
       "      <td>...</td>\n",
       "      <td>...</td>\n",
       "      <td>...</td>\n",
       "      <td>...</td>\n",
       "      <td>...</td>\n",
       "      <td>...</td>\n",
       "    </tr>\n",
       "    <tr>\n",
       "      <th>34374</th>\n",
       "      <td>6345235</td>\n",
       "      <td>1</td>\n",
       "      <td>0</td>\n",
       "      <td>0</td>\n",
       "      <td>0</td>\n",
       "      <td>1</td>\n",
       "      <td>1</td>\n",
       "      <td>0</td>\n",
       "    </tr>\n",
       "    <tr>\n",
       "      <th>34375</th>\n",
       "      <td>6345237</td>\n",
       "      <td>0</td>\n",
       "      <td>0</td>\n",
       "      <td>1</td>\n",
       "      <td>0</td>\n",
       "      <td>1</td>\n",
       "      <td>0</td>\n",
       "      <td>1</td>\n",
       "    </tr>\n",
       "    <tr>\n",
       "      <th>34376</th>\n",
       "      <td>6345239</td>\n",
       "      <td>1</td>\n",
       "      <td>0</td>\n",
       "      <td>0</td>\n",
       "      <td>0</td>\n",
       "      <td>1</td>\n",
       "      <td>0</td>\n",
       "      <td>0</td>\n",
       "    </tr>\n",
       "    <tr>\n",
       "      <th>34377</th>\n",
       "      <td>6345240</td>\n",
       "      <td>1</td>\n",
       "      <td>0</td>\n",
       "      <td>0</td>\n",
       "      <td>0</td>\n",
       "      <td>1</td>\n",
       "      <td>0</td>\n",
       "      <td>0</td>\n",
       "    </tr>\n",
       "    <tr>\n",
       "      <th>34378</th>\n",
       "      <td>6345243</td>\n",
       "      <td>1</td>\n",
       "      <td>1</td>\n",
       "      <td>0</td>\n",
       "      <td>0</td>\n",
       "      <td>1</td>\n",
       "      <td>1</td>\n",
       "      <td>0</td>\n",
       "    </tr>\n",
       "  </tbody>\n",
       "</table>\n",
       "<p>34379 rows × 8 columns</p>\n",
       "</div>"
      ],
      "text/plain": [
       "       user_id  purpose_id_1  purpose_id_2  purpose_id_3  purpose_id_4  \\\n",
       "0            1             1             1             1             1   \n",
       "1           21             1             1             0             0   \n",
       "2           41             0             0             1             1   \n",
       "3           51             1             1             1             1   \n",
       "4          151             1             1             0             0   \n",
       "...        ...           ...           ...           ...           ...   \n",
       "34374  6345235             1             0             0             0   \n",
       "34375  6345237             0             0             1             0   \n",
       "34376  6345239             1             0             0             0   \n",
       "34377  6345240             1             0             0             0   \n",
       "34378  6345243             1             1             0             0   \n",
       "\n",
       "       purpose_id_5  purpose_id_6  purpose_id_7  \n",
       "0                 1             1             1  \n",
       "1                 1             0             1  \n",
       "2                 1             0             1  \n",
       "3                 1             1             1  \n",
       "4                 1             1             0  \n",
       "...             ...           ...           ...  \n",
       "34374             1             1             0  \n",
       "34375             1             0             1  \n",
       "34376             1             0             0  \n",
       "34377             1             0             0  \n",
       "34378             1             1             0  \n",
       "\n",
       "[34379 rows x 8 columns]"
      ]
     },
     "execution_count": 117,
     "metadata": {},
     "output_type": "execute_result"
    }
   ],
   "source": [
    "df=df.iloc[:,0:8]\n",
    "df"
   ]
  },
  {
   "cell_type": "code",
   "execution_count": 118,
   "metadata": {},
   "outputs": [
    {
     "data": {
      "text/plain": [
       "<matplotlib.axes._subplots.AxesSubplot at 0x20d274889d0>"
      ]
     },
     "execution_count": 118,
     "metadata": {},
     "output_type": "execute_result"
    },
    {
     "data": {
      "image/png": "[encoded data removed]",
      "text/plain": [
       "<Figure size 432x288 with 1 Axes>"
      ]
     },
     "metadata": {
      "needs_background": "light"
     },
     "output_type": "display_data"
    }
   ],
   "source": [
    "df.plot.kde()"
   ]
  },
  {
   "cell_type": "markdown",
   "metadata": {},
   "source": [
    "# Insights"
   ]
  },
  {
   "cell_type": "markdown",
   "metadata": {},
   "source": [
    "- From scatterplt we analyze that most of the user_id have purpose_id 0 or 1 \n",
    "- maximum purpose id is 6 and average of purpose ids is between 0 and 1\n",
    "- we also see that as purpose_id increase from 1-6 user_id allocated to them are less\n",
    "- kde analyses users_id with purpose_id "
   ]
  },
  {
   "cell_type": "markdown",
   "metadata": {},
   "source": [
    "---------------------------------------"
   ]
  },
  {
   "cell_type": "code",
   "execution_count": 15,
   "metadata": {},
   "outputs": [],
   "source": [
    "# p=0.5\n",
    "# for i in range(len(y)):\n",
    "#     j=df[y[i]]\n",
    "#     j=list(j)\n",
    "#     plt.bar(x+p,i,width=0.5)\n",
    "#     p+=1\n",
    "    \n",
    "    "
   ]
  },
  {
   "cell_type": "code",
   "execution_count": 35,
   "metadata": {},
   "outputs": [],
   "source": [
    "# for i in range(0,7):\n",
    "#     print(df[df[\"purpose_id_1\"].values==i])\n",
    "# #     counts=np.unique(df[\"purpose_id_1\"].value_counts,return_counts=True)\n",
    "# #     print(counts)\n",
    "# print(type(df[df[\"purpose_id_1\"].values==i]))"
   ]
  },
  {
   "cell_type": "code",
   "execution_count": 34,
   "metadata": {},
   "outputs": [],
   "source": [
    "# df[df[\"purpose_id_1\"].values==6]\n",
    "# #tryinng to extract values of user_id from purpose id so i can show realtion in them "
   ]
  },
  {
   "cell_type": "code",
   "execution_count": 33,
   "metadata": {},
   "outputs": [],
   "source": [
    "# for i in range(0,7):\n",
    "#     if print(df[df[\"purpose_id_1\"].values==i].iloc[:,0:2].values):\n",
    "#         pass\n",
    "        "
   ]
  },
  {
   "cell_type": "code",
   "execution_count": 32,
   "metadata": {},
   "outputs": [],
   "source": [
    "# for i in range(0,7):\n",
    "#     a=(df[df[\"purpose_id_1\"].values==i].iloc[:,0:2].values)\n",
    "    \n",
    "#     b=a.tolist()\n",
    "#     print(b)\n",
    "# #     print(\"User_id with 0 Purpose_id_1\")\n",
    "# #     print(b[0])\n",
    "# #     print(\"User_id with 1 Purpose_id_1\")\n",
    "# #     print(b[1])\n",
    "# #     print(\"User_id with 2 Purpose_id_1\")\n",
    "# #     print(b[2])\n",
    "# #     print(\"User_id with 3 Purpose_id_1\")\n",
    "# #     print(b[3])\n",
    "# #     print(\"User_id with 4 Purpose_id_1\")\n",
    "# #     print(b[4])\n",
    "# #     print(\"User_id with 5 Purpose_id_1\")\n",
    "# #     print(b[5])\n",
    "# #     print(\"User_id with 6 Purpose_id_1\")\n",
    "# #     print(b[6])\n",
    "        "
   ]
  },
  {
   "cell_type": "markdown",
   "metadata": {},
   "source": [
    "I am trying to extract user_id with different purpose id then i plot the same \n",
    "with every purpose_id to get an inshight from it !!"
   ]
  },
  {
   "cell_type": "code",
   "execution_count": 31,
   "metadata": {},
   "outputs": [
    {
     "data": {
      "text/plain": [
       "<BarContainer object of 34379 artists>"
      ]
     },
     "execution_count": 31,
     "metadata": {},
     "output_type": "execute_result"
    },
    {
     "data": {
      "image/png": "[encoded data removed]",
      "text/plain": [
       "<Figure size 432x288 with 1 Axes>"
      ]
     },
     "metadata": {
      "needs_background": "light"
     },
     "output_type": "display_data"
    }
   ],
   "source": [
    "plt.bar(Y,a) #it can't be visualize through bar Graph"
   ]
  },
  {
   "cell_type": "code",
   "execution_count": 90,
   "metadata": {},
   "outputs": [
    {
     "data": {
      "text/plain": [
       "array([1], dtype=int64)"
      ]
     },
     "execution_count": 90,
     "metadata": {},
     "output_type": "execute_result"
    }
   ],
   "source": [
    "#below is wrong approach "
   ]
  },
  {
   "cell_type": "code",
   "execution_count": 81,
   "metadata": {},
   "outputs": [
    {
     "name": "stdout",
     "output_type": "stream",
     "text": [
      "[      1      21      41 ... 6345239 6345240 6345243]\n"
     ]
    }
   ],
   "source": [
    "a=df.get(\"user_id\")\n",
    "a=list(a)\n",
    "x=np.array(a)\n",
    "print(x)  "
   ]
  },
  {
   "cell_type": "code",
   "execution_count": 73,
   "metadata": {},
   "outputs": [
    {
     "name": "stdout",
     "output_type": "stream",
     "text": [
      "[1 1 0 ... 1 1 1]\n"
     ]
    }
   ],
   "source": [
    "y=df.get(\"purpose_id_1\")\n",
    "y=list(y)\n",
    "y1=np.array(y)\n",
    "print(y1) "
   ]
  },
  {
   "cell_type": "code",
   "execution_count": 74,
   "metadata": {},
   "outputs": [
    {
     "name": "stdout",
     "output_type": "stream",
     "text": [
      "[1 1 0 ... 0 0 1]\n"
     ]
    }
   ],
   "source": [
    "y=df.get( 'purpose_id_2')\n",
    "y=list(y)\n",
    "y2=np.array(y)\n",
    "print(y2)"
   ]
  },
  {
   "cell_type": "code",
   "execution_count": 55,
   "metadata": {},
   "outputs": [],
   "source": [
    "y=df.get('purpose_id_3')\n",
    "y=list(y)\n",
    "y3=np.array(y)\n",
    "print(y3)"
   ]
  },
  {
   "cell_type": "code",
   "execution_count": 77,
   "metadata": {},
   "outputs": [
    {
     "name": "stdout",
     "output_type": "stream",
     "text": [
      "[1 0 1 ... 0 0 0]\n"
     ]
    }
   ],
   "source": [
    "y=df.get('purpose_id_4')\n",
    "y=list(y)\n",
    "y4=np.array(y)\n",
    "print(y4)"
   ]
  },
  {
   "cell_type": "code",
   "execution_count": 78,
   "metadata": {},
   "outputs": [
    {
     "name": "stdout",
     "output_type": "stream",
     "text": [
      "[1 1 1 ... 1 1 1]\n"
     ]
    }
   ],
   "source": [
    "y=df.get('purpose_id_5')\n",
    "y=list(y)\n",
    "y5=np.array(y)\n",
    "print(y5)"
   ]
  },
  {
   "cell_type": "code",
   "execution_count": 79,
   "metadata": {},
   "outputs": [
    {
     "name": "stdout",
     "output_type": "stream",
     "text": [
      "[1 0 0 ... 0 0 1]\n"
     ]
    }
   ],
   "source": [
    "y=df.get('purpose_id_6')\n",
    "y=list(y)\n",
    "y6=np.array(y)\n",
    "print(y6)"
   ]
  },
  {
   "cell_type": "code",
   "execution_count": 80,
   "metadata": {},
   "outputs": [
    {
     "name": "stdout",
     "output_type": "stream",
     "text": [
      "[1 1 1 ... 0 0 0]\n"
     ]
    }
   ],
   "source": [
    "y=df.get('purpose_id_7')\n",
    "y=list(y)\n",
    "y7=np.array(y)\n",
    "print(y7)"
   ]
  },
  {
   "cell_type": "code",
   "execution_count": 60,
   "metadata": {},
   "outputs": [],
   "source": [
    "y=df[ 'purpose_id_8']\n",
    "y=list(y)\n",
    "y8=np.array(y)\n"
   ]
  },
  {
   "cell_type": "code",
   "execution_count": 61,
   "metadata": {},
   "outputs": [],
   "source": [
    "y=df[ 'purpose_id_9']\n",
    "y=list(y)\n",
    "y9=np.array(y)\n"
   ]
  },
  {
   "cell_type": "code",
   "execution_count": 62,
   "metadata": {},
   "outputs": [],
   "source": [
    "y=df[ 'purpose_id_10']\n",
    "y=list(y)\n",
    "y10=np.array(y)\n"
   ]
  },
  {
   "cell_type": "code",
   "execution_count": 63,
   "metadata": {},
   "outputs": [],
   "source": [
    "y=df[ 'purpose_id_11']\n",
    "y=list(y)\n",
    "y11=np.array(y)\n"
   ]
  },
  {
   "cell_type": "code",
   "execution_count": 64,
   "metadata": {},
   "outputs": [],
   "source": [
    "y=df[ 'purpose_id_12']\n",
    "y=list(y)\n",
    "y12=np.array(y)\n"
   ]
  },
  {
   "cell_type": "code",
   "execution_count": 65,
   "metadata": {},
   "outputs": [],
   "source": [
    "y=df[ 'purpose_id_13']\n",
    "y=list(y)\n",
    "y13=np.array(y)\n"
   ]
  },
  {
   "cell_type": "code",
   "execution_count": 66,
   "metadata": {},
   "outputs": [],
   "source": [
    "y=df[ 'purpose_id_14']\n",
    "y=list(y)\n",
    "y14=np.array(y)\n"
   ]
  },
  {
   "cell_type": "code",
   "execution_count": 94,
   "metadata": {},
   "outputs": [
    {
     "name": "stdout",
     "output_type": "stream",
     "text": [
      "[0 1 0 ... 0 0 0]\n"
     ]
    }
   ],
   "source": [
    "y=df.get('purpose_id_15')\n",
    "y=list(y)\n",
    "y15=np.array(y)\n",
    "print(y15)"
   ]
  },
  {
   "cell_type": "code",
   "execution_count": 85,
   "metadata": {},
   "outputs": [
    {
     "data": {
      "image/png": "[encoded data removed]",
      "text/plain": [
       "<Figure size 432x288 with 1 Axes>"
      ]
     },
     "metadata": {
      "needs_background": "light"
     },
     "output_type": "display_data"
    }
   ],
   "source": [
    "plt.bar(y1,x,width=0.5)\n",
    "plt.bar(y2+0.5,x,width=0.5)\n",
    "# plt.bar(y3+1.5,x,width=0.5)\n",
    "# plt.bar(y4+2.5,x,width=0.5)\n",
    "# plt.bar(y5+3.5,x,width=0.5)\n",
    "# plt.bar(y6+5.5,x,width=0.5)\n",
    "# plt.bar(y7+6.5,x,width=0.5)\n",
    "# plt.bar(x+7.5,y8,width=0.5)\n",
    "# plt.bar(x+8.5,y9,width=0.5)\n",
    "# plt.bar(x+9.5,y10,width=0.5)\n",
    "# plt.bar(x+10.5,y11,width=0.5)\n",
    "# plt.bar(x+11.5,y12,width=0.5)\n",
    "# plt.bar(x+12.5,y13,width=0.5)\n",
    "# plt.bar(x+13.5,y14,width=0.5)\n",
    "# plt.bar(x+14.5,y15,width=0.5)\n",
    "\n",
    "# plt.legend()\n",
    "plt.show()\n",
    "#it taking lots of data due to large data set \n",
    "# and difficult to visualize too (le6)"
   ]
  },
  {
   "cell_type": "code",
   "execution_count": null,
   "metadata": {},
   "outputs": [],
   "source": []
  }
 ],
 "metadata": {
  "kernelspec": {
   "display_name": "Python 3",
   "language": "python",
   "name": "python3"
  },
  "language_info": {
   "codemirror_mode": {
    "name": "ipython",
    "version": 3
   },
   "file_extension": ".py",
   "mimetype": "text/x-python",
   "name": "python",
   "nbconvert_exporter": "python",
   "pygments_lexer": "ipython3",
   "version": "3.8.3"
  }
 },
 "nbformat": 4,
 "nbformat_minor": 4
}
