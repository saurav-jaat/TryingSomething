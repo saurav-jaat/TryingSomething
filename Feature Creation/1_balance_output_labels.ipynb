{
 "cells": [
  {
   "cell_type": "markdown",
   "metadata": {},
   "source": [
    "---\n",
    "# Program to balance the proportions of output labels "
   ]
  },
  {
   "cell_type": "code",
   "execution_count": 1,
   "metadata": {},
   "outputs": [],
   "source": [
    "# Loading Libraries\n",
    "import pandas as pd\n",
    "import numpy as np\n",
    "from tabulate import tabulate\n",
    "\n",
    "from sklearn.utils import shuffle\n",
    "from sklearn.model_selection import train_test_split as ttsplit\n",
    "import constants\n",
    "\n",
    "RANDOM_STATE = 53"
   ]
  },
  {
   "cell_type": "code",
   "execution_count": 2,
   "metadata": {},
   "outputs": [
    {
     "data": {
      "text/plain": [
       "((903605, 2),\n",
       "            from-to  score\n",
       " 0    6320501-27657    0.0\n",
       " 1  6310893-6295314    1.0\n",
       " 2  6285646-6303434    3.0\n",
       " 3   870193-6275811    1.0\n",
       " 4  6270099-6270025    0.0)"
      ]
     },
     "execution_count": 2,
     "metadata": {},
     "output_type": "execute_result"
    }
   ],
   "source": [
    "# Loading Data\n",
    "df = pd.read_csv(constants.DATA_PATH+'train.csv')\n",
    "df.shape, df.head()"
   ]
  },
  {
   "cell_type": "code",
   "execution_count": 3,
   "metadata": {},
   "outputs": [
    {
     "data": {
      "text/plain": [
       "from-to     object\n",
       "score      float64\n",
       "dtype: object"
      ]
     },
     "execution_count": 3,
     "metadata": {},
     "output_type": "execute_result"
    }
   ],
   "source": [
    "# finding datatypes\n",
    "df.dtypes"
   ]
  },
  {
   "cell_type": "code",
   "execution_count": 4,
   "metadata": {},
   "outputs": [
    {
     "data": {
      "text/html": [
       "<div>\n",
       "<style scoped>\n",
       "    .dataframe tbody tr th:only-of-type {\n",
       "        vertical-align: middle;\n",
       "    }\n",
       "\n",
       "    .dataframe tbody tr th {\n",
       "        vertical-align: top;\n",
       "    }\n",
       "\n",
       "    .dataframe thead th {\n",
       "        text-align: right;\n",
       "    }\n",
       "</style>\n",
       "<table border=\"1\" class=\"dataframe\">\n",
       "  <thead>\n",
       "    <tr style=\"text-align: right;\">\n",
       "      <th></th>\n",
       "      <th>from-to</th>\n",
       "      <th>score</th>\n",
       "      <th>userA_id</th>\n",
       "      <th>userB_id</th>\n",
       "    </tr>\n",
       "  </thead>\n",
       "  <tbody>\n",
       "    <tr>\n",
       "      <th>0</th>\n",
       "      <td>6320501-27657</td>\n",
       "      <td>0.0</td>\n",
       "      <td>6320501</td>\n",
       "      <td>27657</td>\n",
       "    </tr>\n",
       "    <tr>\n",
       "      <th>1</th>\n",
       "      <td>6310893-6295314</td>\n",
       "      <td>1.0</td>\n",
       "      <td>6310893</td>\n",
       "      <td>6295314</td>\n",
       "    </tr>\n",
       "    <tr>\n",
       "      <th>2</th>\n",
       "      <td>6285646-6303434</td>\n",
       "      <td>3.0</td>\n",
       "      <td>6285646</td>\n",
       "      <td>6303434</td>\n",
       "    </tr>\n",
       "    <tr>\n",
       "      <th>3</th>\n",
       "      <td>870193-6275811</td>\n",
       "      <td>1.0</td>\n",
       "      <td>870193</td>\n",
       "      <td>6275811</td>\n",
       "    </tr>\n",
       "    <tr>\n",
       "      <th>4</th>\n",
       "      <td>6270099-6270025</td>\n",
       "      <td>0.0</td>\n",
       "      <td>6270099</td>\n",
       "      <td>6270025</td>\n",
       "    </tr>\n",
       "  </tbody>\n",
       "</table>\n",
       "</div>"
      ],
      "text/plain": [
       "           from-to  score userA_id userB_id\n",
       "0    6320501-27657    0.0  6320501    27657\n",
       "1  6310893-6295314    1.0  6310893  6295314\n",
       "2  6285646-6303434    3.0  6285646  6303434\n",
       "3   870193-6275811    1.0   870193  6275811\n",
       "4  6270099-6270025    0.0  6270099  6270025"
      ]
     },
     "execution_count": 4,
     "metadata": {},
     "output_type": "execute_result"
    }
   ],
   "source": [
    "#Separating the `from-to` column\n",
    "temp = np.array(df['from-to'].apply(lambda x: x.split('-')).to_list())\n",
    "df['userA_id'] = temp[:, 0]\n",
    "df['userB_id'] = temp[:, 1]\n",
    "df.head()"
   ]
  },
  {
   "cell_type": "code",
   "execution_count": 5,
   "metadata": {},
   "outputs": [
    {
     "data": {
      "text/plain": [
       "from-to      object\n",
       "score       float64\n",
       "userA_id     object\n",
       "userB_id     object\n",
       "dtype: object"
      ]
     },
     "execution_count": 5,
     "metadata": {},
     "output_type": "execute_result"
    }
   ],
   "source": [
    "# Checking types again\n",
    "df.dtypes"
   ]
  },
  {
   "cell_type": "code",
   "execution_count": 6,
   "metadata": {},
   "outputs": [],
   "source": [
    "# Fixing type variables\n",
    "type_correction = {'score': 'object',\n",
    "                  }\n",
    "df = df.astype(type_correction)"
   ]
  },
  {
   "cell_type": "markdown",
   "metadata": {},
   "source": [
    " **Important**\n",
    " \n",
    " - UA_train.ipynb would have covered the lone analysis of train.csv"
   ]
  },
  {
   "cell_type": "code",
   "execution_count": 7,
   "metadata": {},
   "outputs": [
    {
     "data": {
      "text/plain": [
       "0.0    49.939741\n",
       "1.0    45.036935\n",
       "3.0     4.167861\n",
       "2.0     0.855462\n",
       "Name: score, dtype: float64"
      ]
     },
     "execution_count": 7,
     "metadata": {},
     "output_type": "execute_result"
    }
   ],
   "source": [
    "# Proportions of output labels\n",
    "df['score'].value_counts(normalize=True)*100"
   ]
  },
  {
   "cell_type": "code",
   "execution_count": 8,
   "metadata": {},
   "outputs": [],
   "source": [
    "# Subsetting Dataset to balance the output labels\n",
    "df_label_3 = df[df['score'] == 3]\n",
    "df_label_2 = df[df['score'] == 2]\n",
    "df_label_1 = df[df['score'] == 1]\n",
    "df_label_0 = df[df['score'] == 0]\n",
    "\n",
    "# getting least freq label count\n",
    "sample_size = min(df_label_3.shape[0],\n",
    "    df_label_2.shape[0],\n",
    "    df_label_1.shape[0],\n",
    "    df_label_0.shape[0]) - 1\n",
    "\n",
    "# Randomly selecting observations such that the classes are balanced\n",
    "df_label_3, _ = ttsplit(df_label_3, random_state=RANDOM_STATE, train_size=sample_size)\n",
    "df_label_2, _ = ttsplit(df_label_2, random_state=RANDOM_STATE, train_size=sample_size)\n",
    "df_label_1, _ = ttsplit(df_label_1, random_state=RANDOM_STATE, train_size=sample_size)\n",
    "df_label_0, _ = ttsplit(df_label_0, random_state=RANDOM_STATE, train_size=sample_size)\n"
   ]
  },
  {
   "cell_type": "code",
   "execution_count": 9,
   "metadata": {},
   "outputs": [],
   "source": [
    "# merging the parts\n",
    "parts = [df_label_3, df_label_2, df_label_1, df_label_0]\n",
    "df_train = pd.concat(parts)\n",
    "df_train = shuffle(df_train, random_state=RANDOM_STATE)"
   ]
  },
  {
   "cell_type": "code",
   "execution_count": 10,
   "metadata": {},
   "outputs": [
    {
     "data": {
      "text/plain": [
       "3.0    25.0\n",
       "2.0    25.0\n",
       "1.0    25.0\n",
       "0.0    25.0\n",
       "Name: score, dtype: float64"
      ]
     },
     "execution_count": 10,
     "metadata": {},
     "output_type": "execute_result"
    }
   ],
   "source": [
    "# Rechecking proportions\n",
    "df_train['score'].value_counts(normalize=True)*100"
   ]
  },
  {
   "cell_type": "code",
   "execution_count": 11,
   "metadata": {},
   "outputs": [],
   "source": [
    "# Writing csv\n",
    "df_train.to_csv(constants.OUTPUT_FILE,\n",
    "                index=False,\n",
    "                header=True)"
   ]
  }
 ],
 "metadata": {
  "kernelspec": {
   "display_name": "Python 3",
   "language": "python",
   "name": "python3"
  },
  "language_info": {
   "codemirror_mode": {
    "name": "ipython",
    "version": 3
   },
   "file_extension": ".py",
   "mimetype": "text/x-python",
   "name": "python",
   "nbconvert_exporter": "python",
   "pygments_lexer": "ipython3",
   "version": "3.8.3"
  }
 },
 "nbformat": 4,
 "nbformat_minor": 4
}
