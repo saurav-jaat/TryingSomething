{
 "cells": [
  {
   "cell_type": "markdown",
   "metadata": {},
   "source": [
    "---\n",
    "# Add education features to the training file\n",
    "1.`has_common_schools`\n",
    "\n",
    "2.`n_common_schools`"
   ]
  },
  {
   "cell_type": "code",
   "execution_count": 1,
   "metadata": {},
   "outputs": [],
   "source": [
    "# Loading Libraries\n",
    "import pandas as pd\n",
    "import numpy as np\n",
    "from tabulate import tabulate\n",
    "\n",
    "from sklearn.utils import shuffle\n",
    "from sklearn.model_selection import train_test_split as ttsplit\n",
    "\n",
    "import constants\n",
    "\n",
    "RANDOM_STATE = constants.RANDOM_STATE"
   ]
  },
  {
   "cell_type": "code",
   "execution_count": 2,
   "metadata": {},
   "outputs": [
    {
     "name": "stdout",
     "output_type": "stream",
     "text": [
      "(1, 5)\n"
     ]
    },
    {
     "data": {
      "text/html": [
       "<div>\n",
       "<style scoped>\n",
       "    .dataframe tbody tr th:only-of-type {\n",
       "        vertical-align: middle;\n",
       "    }\n",
       "\n",
       "    .dataframe tbody tr th {\n",
       "        vertical-align: top;\n",
       "    }\n",
       "\n",
       "    .dataframe thead th {\n",
       "        text-align: right;\n",
       "    }\n",
       "</style>\n",
       "<table border=\"1\" class=\"dataframe\">\n",
       "  <thead>\n",
       "    <tr style=\"text-align: right;\">\n",
       "      <th></th>\n",
       "      <th>from-to</th>\n",
       "      <th>userA_id</th>\n",
       "      <th>userB_id</th>\n",
       "      <th>has_common_skills</th>\n",
       "      <th>n_common_skills</th>\n",
       "    </tr>\n",
       "  </thead>\n",
       "  <tbody>\n",
       "    <tr>\n",
       "      <th>0</th>\n",
       "      <td>888999-222</td>\n",
       "      <td>888999</td>\n",
       "      <td>222</td>\n",
       "      <td>0</td>\n",
       "      <td>-1</td>\n",
       "    </tr>\n",
       "  </tbody>\n",
       "</table>\n",
       "</div>"
      ],
      "text/plain": [
       "      from-to  userA_id  userB_id  has_common_skills  n_common_skills\n",
       "0  888999-222    888999       222                  0               -1"
      ]
     },
     "execution_count": 2,
     "metadata": {},
     "output_type": "execute_result"
    }
   ],
   "source": [
    "# Loading training data\n",
    "df_train = pd.read_csv(constants.OUTPUT_FILE)\n",
    "print(df_train.shape)\n",
    "df_train.head()"
   ]
  },
  {
   "cell_type": "markdown",
   "metadata": {},
   "source": [
    "## Loading Lookup dataFrame\n"
   ]
  },
  {
   "cell_type": "code",
   "execution_count": 3,
   "metadata": {},
   "outputs": [
    {
     "data": {
      "text/html": [
       "<div>\n",
       "<style scoped>\n",
       "    .dataframe tbody tr th:only-of-type {\n",
       "        vertical-align: middle;\n",
       "    }\n",
       "\n",
       "    .dataframe tbody tr th {\n",
       "        vertical-align: top;\n",
       "    }\n",
       "\n",
       "    .dataframe thead th {\n",
       "        text-align: right;\n",
       "    }\n",
       "</style>\n",
       "<table border=\"1\" class=\"dataframe\">\n",
       "  <thead>\n",
       "    <tr style=\"text-align: right;\">\n",
       "      <th></th>\n",
       "      <th>user_id</th>\n",
       "      <th>school_id</th>\n",
       "      <th>degree_id</th>\n",
       "    </tr>\n",
       "  </thead>\n",
       "  <tbody>\n",
       "    <tr>\n",
       "      <th>0</th>\n",
       "      <td>151</td>\n",
       "      <td>11825.0</td>\n",
       "      <td>2.0</td>\n",
       "    </tr>\n",
       "    <tr>\n",
       "      <th>1</th>\n",
       "      <td>151</td>\n",
       "      <td>13556.0</td>\n",
       "      <td>NaN</td>\n",
       "    </tr>\n",
       "    <tr>\n",
       "      <th>2</th>\n",
       "      <td>41</td>\n",
       "      <td>11929.0</td>\n",
       "      <td>1.0</td>\n",
       "    </tr>\n",
       "    <tr>\n",
       "      <th>3</th>\n",
       "      <td>41</td>\n",
       "      <td>13087.0</td>\n",
       "      <td>NaN</td>\n",
       "    </tr>\n",
       "    <tr>\n",
       "      <th>4</th>\n",
       "      <td>51</td>\n",
       "      <td>999999.0</td>\n",
       "      <td>NaN</td>\n",
       "    </tr>\n",
       "  </tbody>\n",
       "</table>\n",
       "</div>"
      ],
      "text/plain": [
       "   user_id  school_id  degree_id\n",
       "0      151    11825.0        2.0\n",
       "1      151    13556.0        NaN\n",
       "2       41    11929.0        1.0\n",
       "3       41    13087.0        NaN\n",
       "4       51   999999.0        NaN"
      ]
     },
     "execution_count": 3,
     "metadata": {},
     "output_type": "execute_result"
    }
   ],
   "source": [
    "# Loading skills table to create a lookup to create feature from\n",
    "df_schools = pd.read_csv(constants.DATA_PATH+'user_educations.csv')\n",
    "df_schools.head()"
   ]
  },
  {
   "cell_type": "code",
   "execution_count": 4,
   "metadata": {},
   "outputs": [],
   "source": [
    "# dropping duplicates\n",
    "df_schools.drop_duplicates(inplace=True)"
   ]
  },
  {
   "cell_type": "code",
   "execution_count": 5,
   "metadata": {},
   "outputs": [],
   "source": [
    "# Grouping the schools by user_id\n",
    "df_schools_grouped = df_schools.groupby('user_id')"
   ]
  },
  {
   "cell_type": "code",
   "execution_count": 6,
   "metadata": {},
   "outputs": [
    {
     "data": {
      "text/html": [
       "<div>\n",
       "<style scoped>\n",
       "    .dataframe tbody tr th:only-of-type {\n",
       "        vertical-align: middle;\n",
       "    }\n",
       "\n",
       "    .dataframe tbody tr th {\n",
       "        vertical-align: top;\n",
       "    }\n",
       "\n",
       "    .dataframe thead th {\n",
       "        text-align: right;\n",
       "    }\n",
       "</style>\n",
       "<table border=\"1\" class=\"dataframe\">\n",
       "  <thead>\n",
       "    <tr style=\"text-align: right;\">\n",
       "      <th></th>\n",
       "      <th>user_id</th>\n",
       "      <th>school_id</th>\n",
       "      <th>degree_id</th>\n",
       "    </tr>\n",
       "  </thead>\n",
       "  <tbody>\n",
       "    <tr>\n",
       "      <th>0</th>\n",
       "      <td>151</td>\n",
       "      <td>11825.0</td>\n",
       "      <td>2.0</td>\n",
       "    </tr>\n",
       "    <tr>\n",
       "      <th>1</th>\n",
       "      <td>151</td>\n",
       "      <td>13556.0</td>\n",
       "      <td>NaN</td>\n",
       "    </tr>\n",
       "  </tbody>\n",
       "</table>\n",
       "</div>"
      ],
      "text/plain": [
       "   user_id  school_id  degree_id\n",
       "0      151    11825.0        2.0\n",
       "1      151    13556.0        NaN"
      ]
     },
     "execution_count": 6,
     "metadata": {},
     "output_type": "execute_result"
    }
   ],
   "source": [
    "# Accessing the schools of particular user\n",
    "df_schools_grouped.get_group(151)"
   ]
  },
  {
   "cell_type": "code",
   "execution_count": 7,
   "metadata": {},
   "outputs": [],
   "source": [
    "# Utility function to lookup values in \n",
    "def get_common_info(userA, userB, df_info, var):\n",
    "    \"\"\"\n",
    "    Lookup group of info for userA and userB\n",
    "    \n",
    "    `df_info` can be replaced by `df_school` or any other which conveys extra\n",
    "    about `userA` or `userB` BUT MUST BE GROUPED BY `user_id`\n",
    "    \n",
    "    \n",
    "    Returns\n",
    "        has_common_info: boolean: whether the users have common school\n",
    "        n_common_info: int: count of schools common between the users\n",
    "    \"\"\"\n",
    "    userA = int(userA)\n",
    "    userB = int(userB)\n",
    "    #\n",
    "    # try block if no info is present\n",
    "    try:\n",
    "        # feteching skills \n",
    "        uA_info = set(df_info.get_group(userA)[var].values)\n",
    "        uB_info = set(df_info.get_group(userB)[var].values)\n",
    "        commons = uA_info.intersection(uB_info)\n",
    "        #\n",
    "        # if info has only 999999 (i.e. the group of less freq info); DEFINED BY PROBLEM STATEMENT\n",
    "        if ( 999999 in commons) and (len(commons - {999999, }) <1):\n",
    "            return True, -2\n",
    "        # else find the common info expect\n",
    "        n_common_info = len( commons-{999999, })\n",
    "        has_common_info = True if n_common_info > 0 else False\n",
    "    # when no school information is present\n",
    "    except Exception as e:\n",
    "        return False, -1\n",
    "    return has_common_info, n_common_info\n",
    "\n",
    "# Testing the function\n",
    "# get_common_schools(151, 931, df_skills_grouped, var='skill_id')\n",
    "# get_common_schools(51, 5371)\n",
    "# get_common_schools(151, 41)"
   ]
  },
  {
   "cell_type": "markdown",
   "metadata": {},
   "source": [
    "### Creating features"
   ]
  },
  {
   "cell_type": "code",
   "execution_count": 8,
   "metadata": {},
   "outputs": [],
   "source": [
    "# Generating Features\n",
    "temp = df_train.apply(lambda x: get_common_info(x.userA_id, x.userB_id, df_schools_grouped, var='school_id'),\n",
    "                  axis=1)\n",
    "temp = np.array(temp.to_list())\n",
    "df_train['has_common_schools'] = temp[:, 0] \n",
    "df_train['n_common_schools'] = temp[:, 1]"
   ]
  },
  {
   "cell_type": "code",
   "execution_count": 9,
   "metadata": {},
   "outputs": [
    {
     "data": {
      "text/html": [
       "<div>\n",
       "<style scoped>\n",
       "    .dataframe tbody tr th:only-of-type {\n",
       "        vertical-align: middle;\n",
       "    }\n",
       "\n",
       "    .dataframe tbody tr th {\n",
       "        vertical-align: top;\n",
       "    }\n",
       "\n",
       "    .dataframe thead th {\n",
       "        text-align: right;\n",
       "    }\n",
       "</style>\n",
       "<table border=\"1\" class=\"dataframe\">\n",
       "  <thead>\n",
       "    <tr style=\"text-align: right;\">\n",
       "      <th></th>\n",
       "      <th>from-to</th>\n",
       "      <th>userA_id</th>\n",
       "      <th>userB_id</th>\n",
       "      <th>has_common_skills</th>\n",
       "      <th>n_common_skills</th>\n",
       "      <th>has_common_schools</th>\n",
       "      <th>n_common_schools</th>\n",
       "    </tr>\n",
       "  </thead>\n",
       "  <tbody>\n",
       "    <tr>\n",
       "      <th>0</th>\n",
       "      <td>888999-222</td>\n",
       "      <td>888999</td>\n",
       "      <td>222</td>\n",
       "      <td>0</td>\n",
       "      <td>-1</td>\n",
       "      <td>0</td>\n",
       "      <td>-1</td>\n",
       "    </tr>\n",
       "  </tbody>\n",
       "</table>\n",
       "</div>"
      ],
      "text/plain": [
       "      from-to  userA_id  userB_id  has_common_skills  n_common_skills  \\\n",
       "0  888999-222    888999       222                  0               -1   \n",
       "\n",
       "   has_common_schools  n_common_schools  \n",
       "0                   0                -1  "
      ]
     },
     "execution_count": 9,
     "metadata": {},
     "output_type": "execute_result"
    }
   ],
   "source": [
    "# Preview of new features\n",
    "df_train.head()"
   ]
  },
  {
   "cell_type": "markdown",
   "metadata": {},
   "source": [
    "--- \n",
    "Writing to file\n",
    "---"
   ]
  },
  {
   "cell_type": "code",
   "execution_count": 10,
   "metadata": {},
   "outputs": [],
   "source": [
    "# Writing to output\n",
    "df_train.to_csv(constants.OUTPUT_FILE,\n",
    "                index=False,\n",
    "                header=True)"
   ]
  }
 ],
 "metadata": {
  "kernelspec": {
   "display_name": "Python 3",
   "language": "python",
   "name": "python3"
  },
  "language_info": {
   "codemirror_mode": {
    "name": "ipython",
    "version": 3
   },
   "file_extension": ".py",
   "mimetype": "text/x-python",
   "name": "python",
   "nbconvert_exporter": "python",
   "pygments_lexer": "ipython3",
   "version": "3.8.3"
  }
 },
 "nbformat": 4,
 "nbformat_minor": 4
}
